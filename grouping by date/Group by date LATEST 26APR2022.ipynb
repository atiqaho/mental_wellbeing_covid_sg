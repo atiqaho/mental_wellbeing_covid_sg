{
 "cells": [
  {
   "cell_type": "code",
   "execution_count": 1,
   "metadata": {},
   "outputs": [],
   "source": [
    "import nltk\n",
    "import datetime as datetime\n",
    "import pandas as pd\n",
    "pd.set_option('display.max_rows', None)\n",
    "    \n",
    "df = pd.read_csv('final twitter 13 JAN.csv')"
   ]
  },
  {
   "cell_type": "code",
   "execution_count": 5,
   "metadata": {},
   "outputs": [
    {
     "data": {
      "text/plain": [
       "Index(['Unnamed: 0', 'Unnamed: 0.1', 'Unnamed: 0.1.1', 'Unnamed: 0.1.1.1',\n",
       "       'ID', 'keywords', 'Date', 'tweet_timestamp', 'Tweet', 'anger', 'fear',\n",
       "       'sadness', 'joy', 'valence', 'user_id', 'user_status_count',\n",
       "       'user_follower', 'user_friend', 'influencer_score', 'info_status',\n",
       "       'info_status_binary', 'emotion', 'sentiment', 'intensity_level',\n",
       "       'processed_content', 'lemmatized_content'],\n",
       "      dtype='object')"
      ]
     },
     "execution_count": 5,
     "metadata": {},
     "output_type": "execute_result"
    }
   ],
   "source": [
    "df.columns"
   ]
  },
  {
   "cell_type": "code",
   "execution_count": null,
   "metadata": {},
   "outputs": [],
   "source": [
    "#use agg 'count' for all non-intensity score vales\n",
    "count = df.groupby(['Date']).agg(['count'])\n",
    "count.tail(30)"
   ]
  },
  {
   "cell_type": "code",
   "execution_count": null,
   "metadata": {},
   "outputs": [],
   "source": [
    "count.to_csv('twitter_count_daily_latest5.csv')"
   ]
  },
  {
   "cell_type": "code",
   "execution_count": null,
   "metadata": {},
   "outputs": [],
   "source": []
  },
  {
   "cell_type": "code",
   "execution_count": 30,
   "metadata": {},
   "outputs": [
    {
     "name": "stdout",
     "output_type": "stream",
     "text": [
      "   Unnamed: 0  Unnamed: 0.1  Unnamed: 0.1.1  Unnamed: 0.1.1.1     ID keywords  \\\n",
      "3       80409         80409             617               620  621.0    wuhan   \n",
      "4       80388         80388             431               434  435.0    wuhan   \n",
      "5       80379         80379             278               281  282.0    wuhan   \n",
      "7       80385         80385             418               421  422.0    wuhan   \n",
      "9       80389         80389             433               436  437.0    wuhan   \n",
      "\n",
      "         Date  tweet_timestamp  \\\n",
      "3  2020-01-28     1.580240e+09   \n",
      "4  2020-01-28     1.580218e+09   \n",
      "5  2020-01-28     1.580209e+09   \n",
      "7  2020-01-28     1.580217e+09   \n",
      "9  2020-01-28     1.580218e+09   \n",
      "\n",
      "                                                                                                                                   Tweet  \\\n",
      "3                                   Inside Wuhan Cooking and celebrating birthday in Coronavirus lockdown httpstcoQFbk2FmZKa via YouTube   \n",
      "4  Echinanews Wuhan coronavirus had brought out the ugly n beauty of people For the beauty we congratulate them Foâ¦ httpstcoK8XUI5pze7   \n",
      "5                                Supply of masks in Singapore sufficient if used sensibly and responsibly Lam Pin Min httpstcoeTOU71bjE3   \n",
      "7     âWuhan you can do itâ Quarantined residents sing from their balconies in stirring VIDEOS httpstcouIS5wvFFy6 httpstcoVwfEHabeFU   \n",
      "9  This was the best pragmatic advice for taking extra care to safeguard yourselfyour home during these anxious times httpstcobQtkjiGMma   \n",
      "\n",
      "   anger  ...  user_follower  user_friend  influencer_score   info_status  \\\n",
      "3  0.302  ...           68.0        109.0          0.623853  info-seeking   \n",
      "4  0.360  ...           66.0         95.0          0.694737  info-seeking   \n",
      "5  0.348  ...          405.0       2030.0          0.199507  info-seeking   \n",
      "7  0.350  ...         3454.0       4986.0          0.692740  info-seeking   \n",
      "9  0.233  ...          871.0       2353.0          0.370166  info-seeking   \n",
      "\n",
      "   info_status_binary  emotion  sentiment  intensity_level  \\\n",
      "3                   1      joy   positive         moderate   \n",
      "4                   1      joy   positive         moderate   \n",
      "5                   1      joy   positive              low   \n",
      "7                   1      joy   positive         moderate   \n",
      "9                   1      joy   positive         moderate   \n",
      "\n",
      "                                                                                                    processed_content  \\\n",
      "3                                   inside wuhan cooking and celebrating birthday in coronavirus lockdown via youtube   \n",
      "4    echinanews wuhan coronavirus had brought out the ugly n beauty of people for the beauty we congratulate them foa   \n",
      "5                                supply of masks in singapore sufficient if used sensibly and responsibly lam pin min   \n",
      "7                            awuhan you can do ita quarantined residents sing from their balconies in stirring videos   \n",
      "9  this was the best pragmatic advice for taking extra care to safeguard yourselfyour home during these anxious times   \n",
      "\n",
      "                                                                                            lemmatized_content  \n",
      "3                                      insid wuhan cook and celebr birthday in coronavirus lockdown via youtub  \n",
      "4  echinanew wuhan coronavirus had brought out the ugli n beauti of peopl for the beauti we congratul them foa  \n",
      "5                                    suppli of mask in singapor suffici if use sensibl and respons lam pin min  \n",
      "7                                  awuhan you can do ita quarantin resid sing from their balconi in stir video  \n",
      "9   this was the best pragmat advic for take extra care to safeguard yourselfyour home dure these anxious time  \n",
      "\n",
      "[5 rows x 26 columns]\n"
     ]
    }
   ],
   "source": [
    "pd.set_option('display.max_colwidth', None)\n",
    "df_joy = df.loc[df['emotion'] == \"joy\"]\n",
    "print(df_joy.head())"
   ]
  },
  {
   "cell_type": "code",
   "execution_count": 33,
   "metadata": {},
   "outputs": [
    {
     "data": {
      "text/html": [
       "<div>\n",
       "<style scoped>\n",
       "    .dataframe tbody tr th:only-of-type {\n",
       "        vertical-align: middle;\n",
       "    }\n",
       "\n",
       "    .dataframe tbody tr th {\n",
       "        vertical-align: top;\n",
       "    }\n",
       "\n",
       "    .dataframe thead th {\n",
       "        text-align: right;\n",
       "    }\n",
       "</style>\n",
       "<table border=\"1\" class=\"dataframe\">\n",
       "  <thead>\n",
       "    <tr style=\"text-align: right;\">\n",
       "      <th></th>\n",
       "      <th>mean</th>\n",
       "    </tr>\n",
       "    <tr>\n",
       "      <th>Date</th>\n",
       "      <th></th>\n",
       "    </tr>\n",
       "  </thead>\n",
       "  <tbody>\n",
       "    <tr>\n",
       "      <th>2020-01-28</th>\n",
       "      <td>0.414417</td>\n",
       "    </tr>\n",
       "    <tr>\n",
       "      <th>2020-01-29</th>\n",
       "      <td>0.398778</td>\n",
       "    </tr>\n",
       "    <tr>\n",
       "      <th>2020-01-30</th>\n",
       "      <td>0.403929</td>\n",
       "    </tr>\n",
       "    <tr>\n",
       "      <th>2020-01-31</th>\n",
       "      <td>0.398000</td>\n",
       "    </tr>\n",
       "    <tr>\n",
       "      <th>2020-02-01</th>\n",
       "      <td>0.438970</td>\n",
       "    </tr>\n",
       "  </tbody>\n",
       "</table>\n",
       "</div>"
      ],
      "text/plain": [
       "                mean\n",
       "Date                \n",
       "2020-01-28  0.414417\n",
       "2020-01-29  0.398778\n",
       "2020-01-30  0.403929\n",
       "2020-01-31  0.398000\n",
       "2020-02-01  0.438970"
      ]
     },
     "execution_count": 33,
     "metadata": {},
     "output_type": "execute_result"
    }
   ],
   "source": [
    "#use agg 'mean' for all intensity score vales\n",
    "#repeat for each emotion category\n",
    "count = df_joy.groupby(['Date']).agg(['mean'])\n",
    "count['joy'].head()"
   ]
  },
  {
   "cell_type": "code",
   "execution_count": 34,
   "metadata": {},
   "outputs": [],
   "source": [
    "count['joy'].to_csv('twitter_joy_intensity_daily_latest.csv')"
   ]
  },
  {
   "cell_type": "code",
   "execution_count": null,
   "metadata": {},
   "outputs": [],
   "source": []
  },
  {
   "cell_type": "code",
   "execution_count": null,
   "metadata": {},
   "outputs": [],
   "source": [
    "count = df_sadness.groupby(['date']).agg(['mean'])\n",
    "count['sadness_score'].head()"
   ]
  },
  {
   "cell_type": "code",
   "execution_count": null,
   "metadata": {},
   "outputs": [],
   "source": [
    "count['sadness_score'].to_csv('fb_sadness_intensity_daily.csv')"
   ]
  },
  {
   "cell_type": "code",
   "execution_count": null,
   "metadata": {},
   "outputs": [],
   "source": [
    "#manually derive percentage on excel using formula"
   ]
  }
 ],
 "metadata": {
  "kernelspec": {
   "display_name": "Python 3",
   "language": "python",
   "name": "python3"
  },
  "language_info": {
   "codemirror_mode": {
    "name": "ipython",
    "version": 3
   },
   "file_extension": ".py",
   "mimetype": "text/x-python",
   "name": "python",
   "nbconvert_exporter": "python",
   "pygments_lexer": "ipython3",
   "version": "3.6.10"
  }
 },
 "nbformat": 4,
 "nbformat_minor": 4
}
