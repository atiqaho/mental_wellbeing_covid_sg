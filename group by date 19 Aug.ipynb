{
 "cells": [
  {
   "cell_type": "code",
   "execution_count": 25,
   "metadata": {},
   "outputs": [],
   "source": [
    "import nltk\n",
    "import datetime as datetime\n",
    "import pandas as pd\n",
    "pd.set_option('display.max_rows', None)\n",
    "    \n",
    "df = pd.read_csv('fb_covid_MW_postsANDcomments_26AUG.csv')"
   ]
  },
  {
   "cell_type": "code",
   "execution_count": 26,
   "metadata": {},
   "outputs": [],
   "source": [
    "pd.set_option('display.max_columns', None)\n",
    "pd.set_option('display.max_rows', None)\n",
    "#df.head()"
   ]
  },
  {
   "cell_type": "code",
   "execution_count": 27,
   "metadata": {},
   "outputs": [
    {
     "data": {
      "text/plain": [
       "Index(['Unnamed: 0', 'Unnamed: 0_x', 'article_id', 'page_id_x', 'post_id',\n",
       "       'post_message', 'post_caption', 'post_description', 'post_timestamp',\n",
       "       'post_creation_time', 'post_link', 'status_type', 'post_type',\n",
       "       'like_count', 'comment_count', 'share_count', 'Unnamed: 0_y',\n",
       "       'Unnamed: 0.1', 'page_id_y', 'user_id', 'username', 'entry_id',\n",
       "       'entry_text', 'entry_timestamp', 'creation_time', 'anger_score',\n",
       "       'fear_score', 'joy_score', 'sadness_score', 'valence', 'emotion_score',\n",
       "       'sentiment_score', 'emotion_category', 'sentiment_category',\n",
       "       'is_2019-ncov', 'is_unemploy', 'is_wfh', 'is_foreign worker',\n",
       "       'page_name', 'len_count', ' entry_text_cleaned', 'utc_time', 'sg_time',\n",
       "       'date', 'processed_content', 'lemmatized_content'],\n",
       "      dtype='object')"
      ]
     },
     "execution_count": 27,
     "metadata": {},
     "output_type": "execute_result"
    }
   ],
   "source": [
    "df.columns"
   ]
  },
  {
   "cell_type": "code",
   "execution_count": 28,
   "metadata": {},
   "outputs": [],
   "source": [
    "#df['tweet_timestamp'] =pd.to_datetime(df['tweet_timestamp'])\n"
   ]
  },
  {
   "cell_type": "code",
   "execution_count": 29,
   "metadata": {},
   "outputs": [],
   "source": [
    "#df['date'] = df['tweet_timestamp'].dt.date"
   ]
  },
  {
   "cell_type": "code",
   "execution_count": 30,
   "metadata": {},
   "outputs": [],
   "source": [
    "#df.head()"
   ]
  },
  {
   "cell_type": "code",
   "execution_count": 31,
   "metadata": {},
   "outputs": [],
   "source": [
    "df = df.sort_values(by=\"date\")"
   ]
  },
  {
   "cell_type": "code",
   "execution_count": 32,
   "metadata": {},
   "outputs": [],
   "source": [
    "#count = df.groupby(['date']).agg(['count'])\n",
    "#count['entry_id'].head()"
   ]
  },
  {
   "cell_type": "code",
   "execution_count": 33,
   "metadata": {},
   "outputs": [],
   "source": [
    "#--NotebookApp.iopub_data_rate_limit=1.0e10"
   ]
  },
  {
   "cell_type": "code",
   "execution_count": 40,
   "metadata": {},
   "outputs": [
    {
     "name": "stdout",
     "output_type": "stream",
     "text": [
      "                                                                          post_caption\n",
      "32337  102-year-old who is Singapore's oldest coronavirus survivor discharged on May 1\n",
      "32335  102-year-old who is Singapore's oldest coronavirus survivor discharged on May 1\n",
      "32334  102-year-old who is Singapore's oldest coronavirus survivor discharged on May 1\n",
      "32333  102-year-old who is Singapore's oldest coronavirus survivor discharged on May 1\n",
      "32332  102-year-old who is Singapore's oldest coronavirus survivor discharged on May 1\n",
      "32331  102-year-old who is Singapore's oldest coronavirus survivor discharged on May 1\n",
      "32345  102-year-old who is Singapore's oldest coronavirus survivor discharged on May 1\n",
      "32346  102-year-old who is Singapore's oldest coronavirus survivor discharged on May 1\n",
      "32347  102-year-old who is Singapore's oldest coronavirus survivor discharged on May 1\n",
      "32363  102-year-old who is Singapore's oldest coronavirus survivor discharged on May 1\n",
      "32362  102-year-old who is Singapore's oldest coronavirus survivor discharged on May 1\n",
      "32361  102-year-old who is Singapore's oldest coronavirus survivor discharged on May 1\n",
      "32360  102-year-old who is Singapore's oldest coronavirus survivor discharged on May 1\n",
      "32359  102-year-old who is Singapore's oldest coronavirus survivor discharged on May 1\n",
      "32358  102-year-old who is Singapore's oldest coronavirus survivor discharged on May 1\n",
      "32356  102-year-old who is Singapore's oldest coronavirus survivor discharged on May 1\n",
      "32355  102-year-old who is Singapore's oldest coronavirus survivor discharged on May 1\n",
      "32353  102-year-old who is Singapore's oldest coronavirus survivor discharged on May 1\n",
      "32352  102-year-old who is Singapore's oldest coronavirus survivor discharged on May 1\n",
      "32351  102-year-old who is Singapore's oldest coronavirus survivor discharged on May 1\n",
      "32350  102-year-old who is Singapore's oldest coronavirus survivor discharged on May 1\n",
      "32348  102-year-old who is Singapore's oldest coronavirus survivor discharged on May 1\n",
      "32468      Coronavirus: Trump says evidence ties virus to Wuhan lab, threatens tariffs\n",
      "32458      Coronavirus: Trump says evidence ties virus to Wuhan lab, threatens tariffs\n",
      "32457      Coronavirus: Trump says evidence ties virus to Wuhan lab, threatens tariffs\n",
      "32482      Coronavirus: Trump says evidence ties virus to Wuhan lab, threatens tariffs\n",
      "32478      Coronavirus: Trump says evidence ties virus to Wuhan lab, threatens tariffs\n",
      "32430      Coronavirus: Trump says evidence ties virus to Wuhan lab, threatens tariffs\n",
      "32448      Coronavirus: Trump says evidence ties virus to Wuhan lab, threatens tariffs\n",
      "32414                 Animal lovers take to India's streets to feed coronavirus strays\n"
     ]
    }
   ],
   "source": [
    "\n",
    "pd.set_option('display.max_colwidth', None)\n",
    "df_joy = df.loc[df['emotion_category'] == \"joy\"]\n",
    "df_joy_date = df_joy.loc[df_joy['date'] == \"2020-05-01\", :]\n",
    "print(df_joy_date[['post_caption']].tail(30))"
   ]
  },
  {
   "cell_type": "code",
   "execution_count": null,
   "metadata": {},
   "outputs": [],
   "source": [
    "count['entry_id'].to_csv('mw_anger_groupbydate_dailytrend.csv')"
   ]
  },
  {
   "cell_type": "code",
   "execution_count": null,
   "metadata": {},
   "outputs": [],
   "source": [
    "#df.to_csv('SG_twitter_noninfluencersonly_withdate_V6_26AUG.csv')"
   ]
  },
  {
   "cell_type": "code",
   "execution_count": null,
   "metadata": {},
   "outputs": [],
   "source": [
    "#df['utc_pacific_time'] = pd.to_datetime(df['creation_time'], unit='s', errors='coerce')\n",
    "#df['utc_pacific_time'].head()"
   ]
  },
  {
   "cell_type": "code",
   "execution_count": null,
   "metadata": {},
   "outputs": [],
   "source": [
    "#df['date'] = df['utc_pacific_time'].dt.date\n",
    "#df[['utc_pacific_time','date']].head()"
   ]
  },
  {
   "cell_type": "code",
   "execution_count": null,
   "metadata": {},
   "outputs": [],
   "source": [
    "#df = df.dropna(subset=['date'])"
   ]
  },
  {
   "cell_type": "code",
   "execution_count": null,
   "metadata": {},
   "outputs": [],
   "source": [
    "count = df.groupby(['date']).agg(['mean'])\n",
    "count['sadness_score'].head()"
   ]
  },
  {
   "cell_type": "code",
   "execution_count": null,
   "metadata": {},
   "outputs": [],
   "source": [
    "df.sort_values(by='date', inplace = True, ascending=True)"
   ]
  },
  {
   "cell_type": "code",
   "execution_count": null,
   "metadata": {},
   "outputs": [],
   "source": [
    "df.columns"
   ]
  },
  {
   "cell_type": "code",
   "execution_count": null,
   "metadata": {},
   "outputs": [],
   "source": [
    "df.drop(['Unnamed: 0', 'Unnamed: 0.1','Unnamed: 0.1.1'], inplace=True, axis=1)"
   ]
  },
  {
   "cell_type": "code",
   "execution_count": null,
   "metadata": {},
   "outputs": [],
   "source": [
    "#df.to_csv('fb_covid_mw_withdatecolumns_19AUG2021.csv')"
   ]
  },
  {
   "cell_type": "code",
   "execution_count": null,
   "metadata": {},
   "outputs": [],
   "source": [
    "count['sadness_score'].to_csv('mean_sadness_fb_covid_SGONLY_26AUG.csv')"
   ]
  },
  {
   "cell_type": "code",
   "execution_count": null,
   "metadata": {},
   "outputs": [],
   "source": []
  },
  {
   "cell_type": "code",
   "execution_count": null,
   "metadata": {},
   "outputs": [],
   "source": []
  },
  {
   "cell_type": "code",
   "execution_count": null,
   "metadata": {},
   "outputs": [],
   "source": [
    "df"
   ]
  },
  {
   "cell_type": "code",
   "execution_count": null,
   "metadata": {},
   "outputs": [],
   "source": [
    "#count['entry_text'].to_csv('fb_covid_mw_dailycount_19AUG2021.csv')"
   ]
  },
  {
   "cell_type": "code",
   "execution_count": null,
   "metadata": {},
   "outputs": [],
   "source": [
    "###tweet_count\ttweet_fear_count\ttweet_fear_percentage\ttweet_fear_intensity"
   ]
  },
  {
   "cell_type": "code",
   "execution_count": null,
   "metadata": {},
   "outputs": [],
   "source": [
    "disease = df[df[\"is_2019-ncov\"] == True]"
   ]
  },
  {
   "cell_type": "code",
   "execution_count": null,
   "metadata": {},
   "outputs": [],
   "source": [
    "job = df[df[\"is_unemploy\"] == True]"
   ]
  },
  {
   "cell_type": "code",
   "execution_count": null,
   "metadata": {},
   "outputs": [],
   "source": [
    "family = df[df[\"is_wfh\"] == True]"
   ]
  },
  {
   "cell_type": "code",
   "execution_count": null,
   "metadata": {},
   "outputs": [],
   "source": [
    "housing = df[df[\"is_foreign worker\"] == True]"
   ]
  },
  {
   "cell_type": "code",
   "execution_count": null,
   "metadata": {},
   "outputs": [],
   "source": [
    "disease.to_csv('disease_fb_covid_mw_latest_25AUG2021.csv')"
   ]
  },
  {
   "cell_type": "code",
   "execution_count": null,
   "metadata": {},
   "outputs": [],
   "source": [
    "job.to_csv('job_fb_covid_mw_latest_25AUG2021.csv')"
   ]
  },
  {
   "cell_type": "code",
   "execution_count": null,
   "metadata": {},
   "outputs": [],
   "source": [
    "family.to_csv('family_fb_covid_mw_latest_25AUG2021.csv')"
   ]
  },
  {
   "cell_type": "code",
   "execution_count": null,
   "metadata": {},
   "outputs": [],
   "source": [
    "housing.to_csv('housing_fb_covid_mw_latest_25AUG2021.csv')"
   ]
  },
  {
   "cell_type": "code",
   "execution_count": null,
   "metadata": {},
   "outputs": [],
   "source": [
    "len(disease)"
   ]
  },
  {
   "cell_type": "code",
   "execution_count": null,
   "metadata": {},
   "outputs": [],
   "source": [
    "len(housing)"
   ]
  },
  {
   "cell_type": "code",
   "execution_count": null,
   "metadata": {},
   "outputs": [],
   "source": [
    "len(family)"
   ]
  },
  {
   "cell_type": "code",
   "execution_count": null,
   "metadata": {},
   "outputs": [],
   "source": [
    "len(job)"
   ]
  },
  {
   "cell_type": "code",
   "execution_count": null,
   "metadata": {},
   "outputs": [],
   "source": [
    "df = pd.read_csv('sadness_twitter_27AUG.csv')"
   ]
  },
  {
   "cell_type": "code",
   "execution_count": null,
   "metadata": {},
   "outputs": [],
   "source": [
    "df.columns"
   ]
  },
  {
   "cell_type": "code",
   "execution_count": null,
   "metadata": {},
   "outputs": [],
   "source": [
    "count = df.groupby(['date']).agg(['mean'])\n",
    "count['sadness'].head()"
   ]
  },
  {
   "cell_type": "code",
   "execution_count": null,
   "metadata": {},
   "outputs": [],
   "source": [
    "count['sadness'].to_csv('avg_sadness_dailycount_Twitter_27AUG.csv')"
   ]
  },
  {
   "cell_type": "code",
   "execution_count": null,
   "metadata": {},
   "outputs": [],
   "source": []
  }
 ],
 "metadata": {
  "kernelspec": {
   "display_name": "Python 3",
   "language": "python",
   "name": "python3"
  },
  "language_info": {
   "codemirror_mode": {
    "name": "ipython",
    "version": 3
   },
   "file_extension": ".py",
   "mimetype": "text/x-python",
   "name": "python",
   "nbconvert_exporter": "python",
   "pygments_lexer": "ipython3",
   "version": "3.6.10"
  }
 },
 "nbformat": 4,
 "nbformat_minor": 4
}
