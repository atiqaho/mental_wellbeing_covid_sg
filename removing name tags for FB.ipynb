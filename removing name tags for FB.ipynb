{
 "cells": [
  {
   "cell_type": "code",
   "execution_count": null,
   "metadata": {},
   "outputs": [],
   "source": [
    "import pandas as pd\n",
    "non_punct=pd.read_csv('')"
   ]
  },
  {
   "cell_type": "code",
   "execution_count": null,
   "metadata": {},
   "outputs": [],
   "source": [
    "import spacy\n",
    "!pip install pip install https://github.com/explosion/spacy-models/releases/download/en_core_web_sm-2.2.0/en_core_web_sm-2.2.0.tar.gz"
   ]
  },
  {
   "cell_type": "code",
   "execution_count": null,
   "metadata": {},
   "outputs": [],
   "source": [
    "##removing name tags\n",
    "import pandas as pd\n",
    "import spacy\n",
    "from tqdm.notebook import tqdm\n",
    "tqdm.pandas()\n",
    "import re\n",
    "\n",
    "import en_core_web_sm\n",
    "nlp = en_core_web_sm.load()\n",
    "from spacy.tokens import Span\n",
    "\n",
    "def ner(doc): \n",
    "    if doc.ents is not None: \n",
    "        for ent in doc.ents:\n",
    "            if ent.label == \"PERSON\":\n",
    "                return TRUE\n",
    "    return False\n",
    "    \n",
    "def remove_names(doc): \n",
    "    new_doc = str(doc)\n",
    "    if doc.ents is not None:\n",
    "        stopwords = [str(i) for i in doc.ents if i.label_ == \"PERSON\"]\n",
    "        print(stopwords)\n",
    "        for word in stopwords:\n",
    "            print(word)\n",
    "            new_doc = new_doc.replace(word, \"\")\n",
    "        print(new_doc)\n",
    "        new_doc = re.sub(' +', ' ', new_doc)\n",
    "    return new_doc\n"
   ]
  },
  {
   "cell_type": "code",
   "execution_count": null,
   "metadata": {},
   "outputs": [],
   "source": [
    "non_punct[\"comment\"] = non_punct.progress_apply(lambda x: remove_names(nlp(x[\"comment\"])), axis=1)"
   ]
  }
 ],
 "metadata": {
  "kernelspec": {
   "display_name": "Python 3",
   "language": "python",
   "name": "python3"
  },
  "language_info": {
   "codemirror_mode": {
    "name": "ipython",
    "version": 3
   },
   "file_extension": ".py",
   "mimetype": "text/x-python",
   "name": "python",
   "nbconvert_exporter": "python",
   "pygments_lexer": "ipython3",
   "version": "3.6.10"
  }
 },
 "nbformat": 4,
 "nbformat_minor": 4
}
