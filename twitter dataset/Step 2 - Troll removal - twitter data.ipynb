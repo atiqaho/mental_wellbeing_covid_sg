{
 "cells": [
  {
   "cell_type": "code",
   "execution_count": 1,
   "metadata": {},
   "outputs": [],
   "source": [
    "import pandas as pd"
   ]
  },
  {
   "cell_type": "code",
   "execution_count": 2,
   "metadata": {},
   "outputs": [],
   "source": [
    "df = pd.read_csv(\"twitter_dropdup.csv\")"
   ]
  },
  {
   "cell_type": "code",
   "execution_count": 3,
   "metadata": {},
   "outputs": [
    {
     "data": {
      "text/plain": [
       "Index(['Unnamed: 0', 'ID', 'keywords', 'Date', 'tweet_timestamp', 'Tweet',\n",
       "       'anger', 'fear', 'sadness', 'joy', 'valence', 'user_id',\n",
       "       'user_status_count', 'user_follower', 'user_friend'],\n",
       "      dtype='object')"
      ]
     },
     "execution_count": 3,
     "metadata": {},
     "output_type": "execute_result"
    }
   ],
   "source": [
    "df.columns"
   ]
  },
  {
   "cell_type": "code",
   "execution_count": 4,
   "metadata": {},
   "outputs": [],
   "source": [
    "#troll-like words\n",
    "\n",
    "trolls = df.loc[df[\"Tweet\"].str.contains\n",
    "                (\"\"\"www.facebook|https://t.me/|https://t.me/thestraitstimes|https://t.me/joinchat|https://m.me|whatsapp|whats app|\n",
    "                whatsapp:|whatsap|https://wa.me/|https://chat.whatsapp.com|click the link|click below|click on the link|click on link|\n",
    "                join the link|click here|with the link below|contact him|contact them|contact her|contact mr|contact ms|contact sir|\n",
    "                connect her|connect him|connect me|inbox me|message me|message him|message her|join me|new blog post|map|\n",
    "                spread___create___trade|ask me how|money online|online investment|download|webawealth-traders.com|bitcoin\n",
    "\"\"\", case=False, na=False)]"
   ]
  },
  {
   "cell_type": "code",
   "execution_count": 5,
   "metadata": {},
   "outputs": [
    {
     "data": {
      "text/plain": [
       "2193"
      ]
     },
     "execution_count": 5,
     "metadata": {},
     "output_type": "execute_result"
    }
   ],
   "source": [
    "len(trolls)"
   ]
  },
  {
   "cell_type": "code",
   "execution_count": 6,
   "metadata": {},
   "outputs": [
    {
     "name": "stdout",
     "output_type": "stream",
     "text": [
      "44                     Coronavirus: we must help Brits stuck in Wuhan, China. Plus tributes for Kobe Bryant, and Brexit week https://t.co/LHqIBmApMS\n",
      "179           Map produced by Johns Hopkins University tracks and visualizes reports about the outbreak using data from the… https://t.co/ZQRz3dTYjI\n",
      "267         Markets roiled on Wuhan virus fears, Mapletree Logistics Trust plans 22.2b yen acquisition of Japan facility at  https://t.co/KieXXNRgeR\n",
      "643      Uh oh, looks like Guangdong got hit pretty badly by 2019-nCoV #coronavirus too. D:  Geomap: https://t.co/d1ipEl9Un6 https://t.co/664MEclYZk\n",
      "713                                                               Wuhan Coronavirus Map: Tracking the Spread of the Outbreak https://t.co/o5gORzwlY9\n",
      "820                                                              New blog post: Singapore Update on Corona Virus 28 Jan 2020 https://t.co/ttU1psTLzW\n",
      "829                                                              New blog post: Singapore Update on Corona Virus 29 Jan 2020 https://t.co/Nf0MP4d2bj\n",
      "868     S’poreans must be prepared for Wuhan virus spreading in the community: PM Lee  https://t.co/3U33erA9xs  Download th… https://t.co/lTssQ9kSHM\n",
      "1137             For those concern about WuHan Virus updates, here is a link to the map of latest global infection numbers.  https://t.co/MjqsNmFjYI\n",
      "1163    Wuhan virus: NEA sets up interim guidelines for cleaning and disinfection https://t.co/u2BrPQ9KZK  Click here for s… https://t.co/XuZ1exf36n\n",
      "Name: Tweet, dtype: object\n"
     ]
    }
   ],
   "source": [
    "pd.set_option('display.max_colwidth', None)\n",
    "print(trolls[\"Tweet\"][0:10])"
   ]
  },
  {
   "cell_type": "code",
   "execution_count": 7,
   "metadata": {},
   "outputs": [],
   "source": [
    "non_troll = df[~df.isin(trolls)].dropna()"
   ]
  },
  {
   "cell_type": "code",
   "execution_count": 8,
   "metadata": {},
   "outputs": [
    {
     "data": {
      "text/plain": [
       "434951"
      ]
     },
     "execution_count": 8,
     "metadata": {},
     "output_type": "execute_result"
    }
   ],
   "source": [
    "len(non_troll)"
   ]
  },
  {
   "cell_type": "code",
   "execution_count": 9,
   "metadata": {},
   "outputs": [
    {
     "data": {
      "text/plain": [
       "0    How to get seats or a proper place to stand in the train or bus? Cough until the people around you gets up or walks… https://t.co/P68YvqPbaH\n",
       "1    Highest number of cases confirmed in China)  among 82 deaths recorded , 76 were in Hubei province.   first case con… https://t.co/IXHBWMjlNx\n",
       "2                                      Wuhan virus: Experts warn against complacency in Indonesia https://t.co/w1vC6VcrVI https://t.co/UW1s10H5xp\n",
       "3                                                                         &gt;Singapore confirms 5th case of Wuhan virus. https://t.co/KEjPiq1AGq\n",
       "4    There is fear, uncertainty and resignation in #Wuhan as Americans await a government evacuation flight out tonight.… https://t.co/xMmXoLiybs\n",
       "5                                          @avalanchelynn Yup. Bookmark this and check periodically for official updates: https://t.co/SwJCVxqavy\n",
       "6     Bookmark our news page for the latest Wuhan virus advice for employers and employees in SG. Updated frequently via… https://t.co/fVq7AKTxFx\n",
       "7    First person with the Wuhan virus being treated by robot  https://t.co/3X8zwXiZU3  -------------------- Know me bet… https://t.co/SoYL0SfOFq\n",
       "8     We have this chat group for everyone in SG office and someone posted some doctors advice on the wuhan virus and th… https://t.co/CbKGXUdbcN\n",
       "9    @chrisvtaylor @pakhead @RichardBarrow Safe harbor? Everyone of these are potential carriers of the virus as the inc… https://t.co/PsMpgTWBL8\n",
       "Name: Tweet, dtype: object"
      ]
     },
     "execution_count": 9,
     "metadata": {},
     "output_type": "execute_result"
    }
   ],
   "source": [
    "non_troll[\"Tweet\"][0:10]"
   ]
  },
  {
   "cell_type": "code",
   "execution_count": 10,
   "metadata": {},
   "outputs": [
    {
     "name": "stderr",
     "output_type": "stream",
     "text": [
      "C:\\Users\\othmana\\AppData\\Local\\Temp\\ipykernel_13356\\1824850767.py:2: UserWarning: This pattern is interpreted as a regular expression, and has match groups. To actually get the groups, use str.extract.\n",
      "  email = non_troll.loc[non_troll[\"Tweet\"].str.contains(\"([a-zA-Z0-9_.+-]+@[a-zA-Z0-9-]+\\.[a-zA-Z0-9-.]+)\")]\n"
     ]
    }
   ],
   "source": [
    "#email addresses\n",
    "email = non_troll.loc[non_troll[\"Tweet\"].str.contains(\"([a-zA-Z0-9_.+-]+@[a-zA-Z0-9-]+\\.[a-zA-Z0-9-.]+)\")]"
   ]
  },
  {
   "cell_type": "code",
   "execution_count": 11,
   "metadata": {},
   "outputs": [],
   "source": [
    "non_email = non_troll[~non_troll.isin(email)].dropna()"
   ]
  },
  {
   "cell_type": "code",
   "execution_count": 12,
   "metadata": {},
   "outputs": [
    {
     "data": {
      "text/plain": [
       "0    How to get seats or a proper place to stand in the train or bus? Cough until the people around you gets up or walks… https://t.co/P68YvqPbaH\n",
       "1    Highest number of cases confirmed in China)  among 82 deaths recorded , 76 were in Hubei province.   first case con… https://t.co/IXHBWMjlNx\n",
       "2                                      Wuhan virus: Experts warn against complacency in Indonesia https://t.co/w1vC6VcrVI https://t.co/UW1s10H5xp\n",
       "3                                                                         &gt;Singapore confirms 5th case of Wuhan virus. https://t.co/KEjPiq1AGq\n",
       "4    There is fear, uncertainty and resignation in #Wuhan as Americans await a government evacuation flight out tonight.… https://t.co/xMmXoLiybs\n",
       "5                                          @avalanchelynn Yup. Bookmark this and check periodically for official updates: https://t.co/SwJCVxqavy\n",
       "6     Bookmark our news page for the latest Wuhan virus advice for employers and employees in SG. Updated frequently via… https://t.co/fVq7AKTxFx\n",
       "7    First person with the Wuhan virus being treated by robot  https://t.co/3X8zwXiZU3  -------------------- Know me bet… https://t.co/SoYL0SfOFq\n",
       "8     We have this chat group for everyone in SG office and someone posted some doctors advice on the wuhan virus and th… https://t.co/CbKGXUdbcN\n",
       "9    @chrisvtaylor @pakhead @RichardBarrow Safe harbor? Everyone of these are potential carriers of the virus as the inc… https://t.co/PsMpgTWBL8\n",
       "Name: Tweet, dtype: object"
      ]
     },
     "execution_count": 12,
     "metadata": {},
     "output_type": "execute_result"
    }
   ],
   "source": [
    "non_email[\"Tweet\"][0:10]"
   ]
  },
  {
   "cell_type": "code",
   "execution_count": 13,
   "metadata": {},
   "outputs": [],
   "source": [
    "#1-charac comments\n",
    "non_one_char = non_email[~(non_email['Tweet'].str.len()==1)]"
   ]
  },
  {
   "cell_type": "code",
   "execution_count": 14,
   "metadata": {},
   "outputs": [
    {
     "data": {
      "text/html": [
       "<div>\n",
       "<style scoped>\n",
       "    .dataframe tbody tr th:only-of-type {\n",
       "        vertical-align: middle;\n",
       "    }\n",
       "\n",
       "    .dataframe tbody tr th {\n",
       "        vertical-align: top;\n",
       "    }\n",
       "\n",
       "    .dataframe thead th {\n",
       "        text-align: right;\n",
       "    }\n",
       "</style>\n",
       "<table border=\"1\" class=\"dataframe\">\n",
       "  <thead>\n",
       "    <tr style=\"text-align: right;\">\n",
       "      <th></th>\n",
       "      <th>Unnamed: 0</th>\n",
       "      <th>ID</th>\n",
       "      <th>keywords</th>\n",
       "      <th>Date</th>\n",
       "      <th>tweet_timestamp</th>\n",
       "      <th>Tweet</th>\n",
       "      <th>anger</th>\n",
       "      <th>fear</th>\n",
       "      <th>sadness</th>\n",
       "      <th>joy</th>\n",
       "      <th>valence</th>\n",
       "      <th>user_id</th>\n",
       "      <th>user_status_count</th>\n",
       "      <th>user_follower</th>\n",
       "      <th>user_friend</th>\n",
       "    </tr>\n",
       "  </thead>\n",
       "  <tbody>\n",
       "    <tr>\n",
       "      <th>0</th>\n",
       "      <td>0.0</td>\n",
       "      <td>1.0</td>\n",
       "      <td>wuhan</td>\n",
       "      <td>01/28/20</td>\n",
       "      <td>1.580174e+09</td>\n",
       "      <td>How to get seats or a proper place to stand in the train or bus? Cough until the people around you gets up or walks… https://t.co/P68YvqPbaH</td>\n",
       "      <td>0.529</td>\n",
       "      <td>0.498</td>\n",
       "      <td>0.475</td>\n",
       "      <td>0.219</td>\n",
       "      <td>0.354</td>\n",
       "      <td>7.219106e+08</td>\n",
       "      <td>63330.0</td>\n",
       "      <td>232.0</td>\n",
       "      <td>201.0</td>\n",
       "    </tr>\n",
       "    <tr>\n",
       "      <th>1</th>\n",
       "      <td>1.0</td>\n",
       "      <td>2.0</td>\n",
       "      <td>wuhan</td>\n",
       "      <td>01/28/20</td>\n",
       "      <td>1.580176e+09</td>\n",
       "      <td>Highest number of cases confirmed in China)  among 82 deaths recorded , 76 were in Hubei province.   first case con… https://t.co/IXHBWMjlNx</td>\n",
       "      <td>0.410</td>\n",
       "      <td>0.572</td>\n",
       "      <td>0.459</td>\n",
       "      <td>0.307</td>\n",
       "      <td>0.520</td>\n",
       "      <td>1.243803e+08</td>\n",
       "      <td>3956.0</td>\n",
       "      <td>414.0</td>\n",
       "      <td>276.0</td>\n",
       "    </tr>\n",
       "    <tr>\n",
       "      <th>2</th>\n",
       "      <td>2.0</td>\n",
       "      <td>3.0</td>\n",
       "      <td>wuhan</td>\n",
       "      <td>01/28/20</td>\n",
       "      <td>1.580176e+09</td>\n",
       "      <td>Wuhan virus: Experts warn against complacency in Indonesia https://t.co/w1vC6VcrVI https://t.co/UW1s10H5xp</td>\n",
       "      <td>0.472</td>\n",
       "      <td>0.552</td>\n",
       "      <td>0.464</td>\n",
       "      <td>0.201</td>\n",
       "      <td>0.350</td>\n",
       "      <td>1.901388e+07</td>\n",
       "      <td>184454.0</td>\n",
       "      <td>36627.0</td>\n",
       "      <td>150.0</td>\n",
       "    </tr>\n",
       "    <tr>\n",
       "      <th>3</th>\n",
       "      <td>3.0</td>\n",
       "      <td>4.0</td>\n",
       "      <td>wuhan</td>\n",
       "      <td>01/28/20</td>\n",
       "      <td>1.580177e+09</td>\n",
       "      <td>&amp;gt;Singapore confirms 5th case of Wuhan virus. https://t.co/KEjPiq1AGq</td>\n",
       "      <td>0.392</td>\n",
       "      <td>0.572</td>\n",
       "      <td>0.468</td>\n",
       "      <td>0.271</td>\n",
       "      <td>0.434</td>\n",
       "      <td>1.020702e+18</td>\n",
       "      <td>57212.0</td>\n",
       "      <td>525.0</td>\n",
       "      <td>390.0</td>\n",
       "    </tr>\n",
       "    <tr>\n",
       "      <th>4</th>\n",
       "      <td>4.0</td>\n",
       "      <td>5.0</td>\n",
       "      <td>wuhan</td>\n",
       "      <td>01/28/20</td>\n",
       "      <td>1.580177e+09</td>\n",
       "      <td>There is fear, uncertainty and resignation in #Wuhan as Americans await a government evacuation flight out tonight.… https://t.co/xMmXoLiybs</td>\n",
       "      <td>0.486</td>\n",
       "      <td>0.714</td>\n",
       "      <td>0.579</td>\n",
       "      <td>0.244</td>\n",
       "      <td>0.371</td>\n",
       "      <td>8.863746e+08</td>\n",
       "      <td>1304.0</td>\n",
       "      <td>3839.0</td>\n",
       "      <td>787.0</td>\n",
       "    </tr>\n",
       "    <tr>\n",
       "      <th>5</th>\n",
       "      <td>5.0</td>\n",
       "      <td>6.0</td>\n",
       "      <td>wuhan</td>\n",
       "      <td>01/28/20</td>\n",
       "      <td>1.580178e+09</td>\n",
       "      <td>@avalanchelynn Yup. Bookmark this and check periodically for official updates: https://t.co/SwJCVxqavy</td>\n",
       "      <td>0.303</td>\n",
       "      <td>0.274</td>\n",
       "      <td>0.375</td>\n",
       "      <td>0.355</td>\n",
       "      <td>0.508</td>\n",
       "      <td>1.616490e+08</td>\n",
       "      <td>37956.0</td>\n",
       "      <td>326.0</td>\n",
       "      <td>156.0</td>\n",
       "    </tr>\n",
       "    <tr>\n",
       "      <th>6</th>\n",
       "      <td>6.0</td>\n",
       "      <td>7.0</td>\n",
       "      <td>wuhan</td>\n",
       "      <td>01/28/20</td>\n",
       "      <td>1.580179e+09</td>\n",
       "      <td>Bookmark our news page for the latest Wuhan virus advice for employers and employees in SG. Updated frequently via… https://t.co/fVq7AKTxFx</td>\n",
       "      <td>0.368</td>\n",
       "      <td>0.454</td>\n",
       "      <td>0.430</td>\n",
       "      <td>0.296</td>\n",
       "      <td>0.485</td>\n",
       "      <td>1.331707e+08</td>\n",
       "      <td>3188.0</td>\n",
       "      <td>1808.0</td>\n",
       "      <td>599.0</td>\n",
       "    </tr>\n",
       "    <tr>\n",
       "      <th>7</th>\n",
       "      <td>7.0</td>\n",
       "      <td>8.0</td>\n",
       "      <td>wuhan</td>\n",
       "      <td>01/28/20</td>\n",
       "      <td>1.580179e+09</td>\n",
       "      <td>First person with the Wuhan virus being treated by robot  https://t.co/3X8zwXiZU3  -------------------- Know me bet… https://t.co/SoYL0SfOFq</td>\n",
       "      <td>0.483</td>\n",
       "      <td>0.530</td>\n",
       "      <td>0.450</td>\n",
       "      <td>0.251</td>\n",
       "      <td>0.408</td>\n",
       "      <td>1.150286e+18</td>\n",
       "      <td>337.0</td>\n",
       "      <td>1411.0</td>\n",
       "      <td>2011.0</td>\n",
       "    </tr>\n",
       "    <tr>\n",
       "      <th>8</th>\n",
       "      <td>8.0</td>\n",
       "      <td>9.0</td>\n",
       "      <td>wuhan</td>\n",
       "      <td>01/28/20</td>\n",
       "      <td>1.580179e+09</td>\n",
       "      <td>We have this chat group for everyone in SG office and someone posted some doctors advice on the wuhan virus and th… https://t.co/CbKGXUdbcN</td>\n",
       "      <td>0.428</td>\n",
       "      <td>0.523</td>\n",
       "      <td>0.470</td>\n",
       "      <td>0.280</td>\n",
       "      <td>0.428</td>\n",
       "      <td>2.055352e+08</td>\n",
       "      <td>35226.0</td>\n",
       "      <td>336.0</td>\n",
       "      <td>473.0</td>\n",
       "    </tr>\n",
       "    <tr>\n",
       "      <th>9</th>\n",
       "      <td>9.0</td>\n",
       "      <td>10.0</td>\n",
       "      <td>wuhan</td>\n",
       "      <td>01/28/20</td>\n",
       "      <td>1.580180e+09</td>\n",
       "      <td>@chrisvtaylor @pakhead @RichardBarrow Safe harbor? Everyone of these are potential carriers of the virus as the inc… https://t.co/PsMpgTWBL8</td>\n",
       "      <td>0.505</td>\n",
       "      <td>0.594</td>\n",
       "      <td>0.474</td>\n",
       "      <td>0.231</td>\n",
       "      <td>0.390</td>\n",
       "      <td>1.170536e+18</td>\n",
       "      <td>489.0</td>\n",
       "      <td>13.0</td>\n",
       "      <td>221.0</td>\n",
       "    </tr>\n",
       "  </tbody>\n",
       "</table>\n",
       "</div>"
      ],
      "text/plain": [
       "   Unnamed: 0    ID keywords      Date  tweet_timestamp  \\\n",
       "0         0.0   1.0    wuhan  01/28/20     1.580174e+09   \n",
       "1         1.0   2.0    wuhan  01/28/20     1.580176e+09   \n",
       "2         2.0   3.0    wuhan  01/28/20     1.580176e+09   \n",
       "3         3.0   4.0    wuhan  01/28/20     1.580177e+09   \n",
       "4         4.0   5.0    wuhan  01/28/20     1.580177e+09   \n",
       "5         5.0   6.0    wuhan  01/28/20     1.580178e+09   \n",
       "6         6.0   7.0    wuhan  01/28/20     1.580179e+09   \n",
       "7         7.0   8.0    wuhan  01/28/20     1.580179e+09   \n",
       "8         8.0   9.0    wuhan  01/28/20     1.580179e+09   \n",
       "9         9.0  10.0    wuhan  01/28/20     1.580180e+09   \n",
       "\n",
       "                                                                                                                                          Tweet  \\\n",
       "0  How to get seats or a proper place to stand in the train or bus? Cough until the people around you gets up or walks… https://t.co/P68YvqPbaH   \n",
       "1  Highest number of cases confirmed in China)  among 82 deaths recorded , 76 were in Hubei province.   first case con… https://t.co/IXHBWMjlNx   \n",
       "2                                    Wuhan virus: Experts warn against complacency in Indonesia https://t.co/w1vC6VcrVI https://t.co/UW1s10H5xp   \n",
       "3                                                                       &gt;Singapore confirms 5th case of Wuhan virus. https://t.co/KEjPiq1AGq   \n",
       "4  There is fear, uncertainty and resignation in #Wuhan as Americans await a government evacuation flight out tonight.… https://t.co/xMmXoLiybs   \n",
       "5                                        @avalanchelynn Yup. Bookmark this and check periodically for official updates: https://t.co/SwJCVxqavy   \n",
       "6   Bookmark our news page for the latest Wuhan virus advice for employers and employees in SG. Updated frequently via… https://t.co/fVq7AKTxFx   \n",
       "7  First person with the Wuhan virus being treated by robot  https://t.co/3X8zwXiZU3  -------------------- Know me bet… https://t.co/SoYL0SfOFq   \n",
       "8   We have this chat group for everyone in SG office and someone posted some doctors advice on the wuhan virus and th… https://t.co/CbKGXUdbcN   \n",
       "9  @chrisvtaylor @pakhead @RichardBarrow Safe harbor? Everyone of these are potential carriers of the virus as the inc… https://t.co/PsMpgTWBL8   \n",
       "\n",
       "   anger   fear  sadness    joy  valence       user_id  user_status_count  \\\n",
       "0  0.529  0.498    0.475  0.219    0.354  7.219106e+08            63330.0   \n",
       "1  0.410  0.572    0.459  0.307    0.520  1.243803e+08             3956.0   \n",
       "2  0.472  0.552    0.464  0.201    0.350  1.901388e+07           184454.0   \n",
       "3  0.392  0.572    0.468  0.271    0.434  1.020702e+18            57212.0   \n",
       "4  0.486  0.714    0.579  0.244    0.371  8.863746e+08             1304.0   \n",
       "5  0.303  0.274    0.375  0.355    0.508  1.616490e+08            37956.0   \n",
       "6  0.368  0.454    0.430  0.296    0.485  1.331707e+08             3188.0   \n",
       "7  0.483  0.530    0.450  0.251    0.408  1.150286e+18              337.0   \n",
       "8  0.428  0.523    0.470  0.280    0.428  2.055352e+08            35226.0   \n",
       "9  0.505  0.594    0.474  0.231    0.390  1.170536e+18              489.0   \n",
       "\n",
       "   user_follower  user_friend  \n",
       "0          232.0        201.0  \n",
       "1          414.0        276.0  \n",
       "2        36627.0        150.0  \n",
       "3          525.0        390.0  \n",
       "4         3839.0        787.0  \n",
       "5          326.0        156.0  \n",
       "6         1808.0        599.0  \n",
       "7         1411.0       2011.0  \n",
       "8          336.0        473.0  \n",
       "9           13.0        221.0  "
      ]
     },
     "execution_count": 14,
     "metadata": {},
     "output_type": "execute_result"
    }
   ],
   "source": [
    "non_one_char[0:10]"
   ]
  },
  {
   "cell_type": "code",
   "execution_count": 15,
   "metadata": {},
   "outputs": [],
   "source": [
    "#comments with punctuation only\n",
    "import string\n",
    "def remove_punctuation(text): \n",
    "    no_punct = ''.join([c for c in text if c not in string.punctuation])\n",
    "    return no_punct\n",
    "##df['entry_text_nopunc']=df['entry_text_filtered'].apply(remove_punctuation)\n",
    "##df = df[''(df['entry_text_nopunc']=='')]\n",
    "\n",
    "non_one_char['Tweet']=non_one_char['Tweet'].apply(remove_punctuation)\n",
    "#df = df[''(df['comment']=='')]\n",
    "non_punct = non_one_char[~(non_one_char['Tweet']=='')]"
   ]
  },
  {
   "cell_type": "code",
   "execution_count": 16,
   "metadata": {},
   "outputs": [
    {
     "name": "stdout",
     "output_type": "stream",
     "text": [
      "   Unnamed: 0    ID keywords      Date  tweet_timestamp  \\\n",
      "0         0.0   1.0    wuhan  01/28/20     1.580174e+09   \n",
      "1         1.0   2.0    wuhan  01/28/20     1.580176e+09   \n",
      "2         2.0   3.0    wuhan  01/28/20     1.580176e+09   \n",
      "3         3.0   4.0    wuhan  01/28/20     1.580177e+09   \n",
      "4         4.0   5.0    wuhan  01/28/20     1.580177e+09   \n",
      "5         5.0   6.0    wuhan  01/28/20     1.580178e+09   \n",
      "6         6.0   7.0    wuhan  01/28/20     1.580179e+09   \n",
      "7         7.0   8.0    wuhan  01/28/20     1.580179e+09   \n",
      "8         8.0   9.0    wuhan  01/28/20     1.580179e+09   \n",
      "9         9.0  10.0    wuhan  01/28/20     1.580180e+09   \n",
      "\n",
      "                                                                                                                                    Tweet  \\\n",
      "0  How to get seats or a proper place to stand in the train or bus Cough until the people around you gets up or walks… httpstcoP68YvqPbaH   \n",
      "1    Highest number of cases confirmed in China  among 82 deaths recorded  76 were in Hubei province   first case con… httpstcoIXHBWMjlNx   \n",
      "2                                         Wuhan virus Experts warn against complacency in Indonesia httpstcow1vC6VcrVI httpstcoUW1s10H5xp   \n",
      "3                                                                         gtSingapore confirms 5th case of Wuhan virus httpstcoKEjPiq1AGq   \n",
      "4    There is fear uncertainty and resignation in Wuhan as Americans await a government evacuation flight out tonight… httpstcoxMmXoLiybs   \n",
      "5                                          avalanchelynn Yup Bookmark this and check periodically for official updates httpstcoSwJCVxqavy   \n",
      "6   Bookmark our news page for the latest Wuhan virus advice for employers and employees in SG Updated frequently via… httpstcofVq7AKTxFx   \n",
      "7                          First person with the Wuhan virus being treated by robot  httpstco3X8zwXiZU3   Know me bet… httpstcoSoYL0SfOFq   \n",
      "8  We have this chat group for everyone in SG office and someone posted some doctors advice on the wuhan virus and th… httpstcoCbKGXUdbcN   \n",
      "9     chrisvtaylor pakhead RichardBarrow Safe harbor Everyone of these are potential carriers of the virus as the inc… httpstcoPsMpgTWBL8   \n",
      "\n",
      "   anger   fear  sadness    joy  valence       user_id  user_status_count  \\\n",
      "0  0.529  0.498    0.475  0.219    0.354  7.219106e+08            63330.0   \n",
      "1  0.410  0.572    0.459  0.307    0.520  1.243803e+08             3956.0   \n",
      "2  0.472  0.552    0.464  0.201    0.350  1.901388e+07           184454.0   \n",
      "3  0.392  0.572    0.468  0.271    0.434  1.020702e+18            57212.0   \n",
      "4  0.486  0.714    0.579  0.244    0.371  8.863746e+08             1304.0   \n",
      "5  0.303  0.274    0.375  0.355    0.508  1.616490e+08            37956.0   \n",
      "6  0.368  0.454    0.430  0.296    0.485  1.331707e+08             3188.0   \n",
      "7  0.483  0.530    0.450  0.251    0.408  1.150286e+18              337.0   \n",
      "8  0.428  0.523    0.470  0.280    0.428  2.055352e+08            35226.0   \n",
      "9  0.505  0.594    0.474  0.231    0.390  1.170536e+18              489.0   \n",
      "\n",
      "   user_follower  user_friend  \n",
      "0          232.0        201.0  \n",
      "1          414.0        276.0  \n",
      "2        36627.0        150.0  \n",
      "3          525.0        390.0  \n",
      "4         3839.0        787.0  \n",
      "5          326.0        156.0  \n",
      "6         1808.0        599.0  \n",
      "7         1411.0       2011.0  \n",
      "8          336.0        473.0  \n",
      "9           13.0        221.0  \n"
     ]
    }
   ],
   "source": [
    "print(non_punct[0:10])"
   ]
  },
  {
   "cell_type": "code",
   "execution_count": 17,
   "metadata": {},
   "outputs": [
    {
     "data": {
      "text/plain": [
       "434809"
      ]
     },
     "execution_count": 17,
     "metadata": {},
     "output_type": "execute_result"
    }
   ],
   "source": [
    "len(non_punct)"
   ]
  },
  {
   "cell_type": "code",
   "execution_count": 18,
   "metadata": {},
   "outputs": [],
   "source": [
    "non_punct.to_csv('twitter_dropdup_trollremoved.csv')"
   ]
  },
  {
   "cell_type": "code",
   "execution_count": null,
   "metadata": {},
   "outputs": [],
   "source": []
  }
 ],
 "metadata": {
  "kernelspec": {
   "display_name": "Python 3 (ipykernel)",
   "language": "python",
   "name": "python3"
  },
  "language_info": {
   "codemirror_mode": {
    "name": "ipython",
    "version": 3
   },
   "file_extension": ".py",
   "mimetype": "text/x-python",
   "name": "python",
   "nbconvert_exporter": "python",
   "pygments_lexer": "ipython3",
   "version": "3.9.12"
  }
 },
 "nbformat": 4,
 "nbformat_minor": 4
}
