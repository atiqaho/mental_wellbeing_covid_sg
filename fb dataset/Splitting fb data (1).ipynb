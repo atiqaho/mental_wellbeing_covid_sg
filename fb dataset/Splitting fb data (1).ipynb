{
 "cells": [
  {
   "cell_type": "code",
   "execution_count": 1,
   "id": "2ae7dcff",
   "metadata": {},
   "outputs": [],
   "source": [
    "import pandas as pd\n",
    "df = pd.read_csv('all combined fb data.csv')"
   ]
  },
  {
   "cell_type": "code",
   "execution_count": 2,
   "id": "d57d07fb",
   "metadata": {},
   "outputs": [
    {
     "data": {
      "text/plain": [
       "11855474"
      ]
     },
     "execution_count": 2,
     "metadata": {},
     "output_type": "execute_result"
    }
   ],
   "source": [
    "len(df)"
   ]
  },
  {
   "cell_type": "code",
   "execution_count": 16,
   "id": "8c7728a3",
   "metadata": {},
   "outputs": [],
   "source": [
    "df1=df[:1000000]\n",
    "df2=df[1000000:2000000]\n",
    "df3=df[2000000:3000000]\n",
    "df4=df[3000000:4000000]\n",
    "df5=df[4000000:5000000]\n",
    "df6=df[5000000:6000000]\n",
    "df7=df[6000000:7000000]\n",
    "df8=df[7000000:8000000]\n",
    "df9=df[8000000:9000000]\n",
    "df10=df[9000000:10000000]\n",
    "df11=df[10000000:11000000]\n",
    "df12=df[11000000:]"
   ]
  },
  {
   "cell_type": "code",
   "execution_count": 17,
   "id": "4c624b16",
   "metadata": {},
   "outputs": [
    {
     "data": {
      "text/plain": [
       "1000000"
      ]
     },
     "execution_count": 17,
     "metadata": {},
     "output_type": "execute_result"
    }
   ],
   "source": [
    "len(df1)"
   ]
  },
  {
   "cell_type": "code",
   "execution_count": 18,
   "id": "2a8e5682",
   "metadata": {},
   "outputs": [
    {
     "data": {
      "text/plain": [
       "1000000"
      ]
     },
     "execution_count": 18,
     "metadata": {},
     "output_type": "execute_result"
    }
   ],
   "source": [
    "len(df2)"
   ]
  },
  {
   "cell_type": "code",
   "execution_count": 19,
   "id": "e2c9522a",
   "metadata": {},
   "outputs": [
    {
     "data": {
      "text/plain": [
       "1000000"
      ]
     },
     "execution_count": 19,
     "metadata": {},
     "output_type": "execute_result"
    }
   ],
   "source": [
    "len(df3)"
   ]
  },
  {
   "cell_type": "code",
   "execution_count": 20,
   "id": "a89de76f",
   "metadata": {},
   "outputs": [
    {
     "data": {
      "text/plain": [
       "1000000"
      ]
     },
     "execution_count": 20,
     "metadata": {},
     "output_type": "execute_result"
    }
   ],
   "source": [
    "len(df4)"
   ]
  },
  {
   "cell_type": "code",
   "execution_count": 21,
   "id": "584eb8e2",
   "metadata": {},
   "outputs": [
    {
     "data": {
      "text/plain": [
       "1000000"
      ]
     },
     "execution_count": 21,
     "metadata": {},
     "output_type": "execute_result"
    }
   ],
   "source": [
    "len(df5)"
   ]
  },
  {
   "cell_type": "code",
   "execution_count": 22,
   "id": "24b38b3d",
   "metadata": {},
   "outputs": [
    {
     "data": {
      "text/plain": [
       "1000000"
      ]
     },
     "execution_count": 22,
     "metadata": {},
     "output_type": "execute_result"
    }
   ],
   "source": [
    "len(df6)"
   ]
  },
  {
   "cell_type": "code",
   "execution_count": 23,
   "id": "0e7ba845",
   "metadata": {},
   "outputs": [
    {
     "data": {
      "text/plain": [
       "1000000"
      ]
     },
     "execution_count": 23,
     "metadata": {},
     "output_type": "execute_result"
    }
   ],
   "source": [
    "len(df7)"
   ]
  },
  {
   "cell_type": "code",
   "execution_count": 24,
   "id": "7abff4fa",
   "metadata": {},
   "outputs": [
    {
     "data": {
      "text/plain": [
       "1000000"
      ]
     },
     "execution_count": 24,
     "metadata": {},
     "output_type": "execute_result"
    }
   ],
   "source": [
    "len(df8)"
   ]
  },
  {
   "cell_type": "code",
   "execution_count": 25,
   "id": "32099ced",
   "metadata": {},
   "outputs": [
    {
     "data": {
      "text/plain": [
       "1000000"
      ]
     },
     "execution_count": 25,
     "metadata": {},
     "output_type": "execute_result"
    }
   ],
   "source": [
    "len(df9)"
   ]
  },
  {
   "cell_type": "code",
   "execution_count": 26,
   "id": "333b1a9d",
   "metadata": {},
   "outputs": [
    {
     "data": {
      "text/plain": [
       "1000000"
      ]
     },
     "execution_count": 26,
     "metadata": {},
     "output_type": "execute_result"
    }
   ],
   "source": [
    "len(df10)"
   ]
  },
  {
   "cell_type": "code",
   "execution_count": 27,
   "id": "d487b448",
   "metadata": {},
   "outputs": [
    {
     "data": {
      "text/plain": [
       "1000000"
      ]
     },
     "execution_count": 27,
     "metadata": {},
     "output_type": "execute_result"
    }
   ],
   "source": [
    "len(df11)"
   ]
  },
  {
   "cell_type": "code",
   "execution_count": 28,
   "id": "970fa858",
   "metadata": {},
   "outputs": [
    {
     "data": {
      "text/plain": [
       "855474"
      ]
     },
     "execution_count": 28,
     "metadata": {},
     "output_type": "execute_result"
    }
   ],
   "source": [
    "len(df12)"
   ]
  },
  {
   "cell_type": "code",
   "execution_count": 29,
   "id": "37541930",
   "metadata": {},
   "outputs": [],
   "source": [
    "df1.to_csv('fb data part 1.csv')\n",
    "df2.to_csv('fb data part 2.csv')\n",
    "df3.to_csv('fb data part 3.csv')\n",
    "df4.to_csv('fb data part 4.csv')\n",
    "df5.to_csv('fb data part 5.csv')\n",
    "df6.to_csv('fb data part 6.csv')\n",
    "df7.to_csv('fb data part 7.csv')\n",
    "df8.to_csv('fb data part 8.csv')\n",
    "df9.to_csv('fb data part 9.csv')\n",
    "df10.to_csv('fb data part 10.csv')\n",
    "df11.to_csv('fb data part 11.csv')\n",
    "df12.to_csv('fb data part 12.csv')"
   ]
  },
  {
   "cell_type": "code",
   "execution_count": null,
   "id": "7836cc7c",
   "metadata": {},
   "outputs": [],
   "source": []
  }
 ],
 "metadata": {
  "kernelspec": {
   "display_name": "Python 3 (ipykernel)",
   "language": "python",
   "name": "python3"
  },
  "language_info": {
   "codemirror_mode": {
    "name": "ipython",
    "version": 3
   },
   "file_extension": ".py",
   "mimetype": "text/x-python",
   "name": "python",
   "nbconvert_exporter": "python",
   "pygments_lexer": "ipython3",
   "version": "3.9.12"
  }
 },
 "nbformat": 4,
 "nbformat_minor": 5
}
