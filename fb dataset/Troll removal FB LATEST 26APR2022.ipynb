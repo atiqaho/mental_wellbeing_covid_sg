{
 "cells": [
  {
   "cell_type": "code",
   "execution_count": 1,
   "metadata": {},
   "outputs": [],
   "source": [
    "import pandas as pd"
   ]
  },
  {
   "cell_type": "code",
   "execution_count": 2,
   "metadata": {},
   "outputs": [],
   "source": [
    "df = pd.read_csv(\"fb comments omicron only with correct date SG ONLY.csv\")"
   ]
  },
  {
   "cell_type": "code",
   "execution_count": 3,
   "metadata": {},
   "outputs": [
    {
     "data": {
      "text/plain": [
       "Index(['Unnamed: 0', 'Unnamed: 0.1', 'page_id', 'post_id', 'user_id',\n",
       "       'username', 'entry_id', 'entry_text', 'entry_timestamp',\n",
       "       'creation_time', 'anger_score', 'fear_score', 'joy_score',\n",
       "       'sadness_score', 'valence', 'emotion_score', 'sentiment_score',\n",
       "       'emotion_category', 'sentiment_category', 'utc_time', 'sg_time',\n",
       "       'date'],\n",
       "      dtype='object')"
      ]
     },
     "execution_count": 3,
     "metadata": {},
     "output_type": "execute_result"
    }
   ],
   "source": [
    "df.columns"
   ]
  },
  {
   "cell_type": "code",
   "execution_count": 5,
   "metadata": {},
   "outputs": [],
   "source": [
    "#troll-like words\n",
    "\n",
    "trolls = df.loc[df[\"entry_text\"].str.contains\n",
    "                (\"\"\"www.facebook|https://t.me/|https://t.me/thestraitstimes|https://t.me/joinchat|https://m.me|whatsapp|whats app|\n",
    "                whatsapp:|whatsap|https://wa.me/|https://chat.whatsapp.com|click the link|click below|click on the link|click on link|\n",
    "                join the link|click here|with the link below|contact him|contact them|contact her|contact mr|contact ms|contact sir|\n",
    "                connect her|connect him|connect me|inbox me|message me|message him|message her|join me|new blog post|map|\n",
    "                spread___create___trade|ask me how|money online|online investment|download|webawealth-traders.com|bitcoin\n",
    "\"\"\", case=False, na=False)]"
   ]
  },
  {
   "cell_type": "code",
   "execution_count": 6,
   "metadata": {},
   "outputs": [
    {
     "data": {
      "text/plain": [
       "2797"
      ]
     },
     "execution_count": 6,
     "metadata": {},
     "output_type": "execute_result"
    }
   ],
   "source": [
    "len(trolls)"
   ]
  },
  {
   "cell_type": "code",
   "execution_count": 7,
   "metadata": {},
   "outputs": [
    {
     "name": "stdout",
     "output_type": "stream",
     "text": [
      "182                                                                                                                                                                                                                                         Sahren Kamis Have been seeing a good result\\nabout him everywhere and a lot or people keep saying reach out to him \" I eventually did and it turns out profitable.You can contact him with the name below. 👇👇\\nDonald Fx\n",
      "191                                                                                                                                                                                                                                             Will Foo Have been seeing a good result\\nabout him everywhere and a lot or people keep saying reach out to him \" I eventually did and it turns out profitable.You can contact him with the name below. 👇👇\\nDonald Fx\n",
      "192                                                                                                                                                                                                                                       Lian Teck Chia Have been seeing a good result\\nabout him everywhere and a lot or people keep saying reach out to him \" I eventually did and it turns out profitable.You can contact him with the name below. 👇👇\\nDonald Fx\n",
      "194                                                                                                                                                                                                                                      Istupid Istupid Have been seeing a good result\\nabout him everywhere and a lot or people keep saying reach out to him \" I eventually did and it turns out profitable.You can contact him with the name below. 👇👇\\nDonald Fx\n",
      "198                                                                                                                                                                                                                                    Nicholas Fanyeong Have been seeing a good result\\nabout him everywhere and a lot or people keep saying reach out to him \" I eventually did and it turns out profitable.You can contact him with the name below. 👇👇\\nDonald Fx\n",
      "199                                                                                                                                                                                                                                       Rosnee Mohamed Have been seeing a good result\\nabout him everywhere and a lot or people keep saying reach out to him \" I eventually did and it turns out profitable.You can contact him with the name below. 👇👇\\nDonald Fx\n",
      "202                                                                                                                                                                                                                                       M'Balz Es-hari Have been seeing a good result\\nabout him everywhere and a lot or people keep saying reach out to him \" I eventually did and it turns out profitable.You can contact him with the name below. 👇👇\\nDonald Fx\n",
      "203                                                                                                                                                                                                                                  Eoma Ika Primadonna Have been seeing a good result\\nabout him everywhere and a lot or people keep saying reach out to him \" I eventually did and it turns out profitable.You can contact him with the name below. 👇👇\\nDonald Fx\n",
      "205                                                                                                                                                                                                                                     MayMarhaya Maxim Have been seeing a good result\\nabout him everywhere and a lot or people keep saying reach out to him \" I eventually did and it turns out profitable.You can contact him with the name below. 👇👇\\nDonald Fx\n",
      "208    Yao Lun  Finding a trader who can help you Invest your funds is not a problem but getting the returns profits is where most of us have problems.\\nI have lost my hard-earned money on fake sites but thanks to smartoptiontrader ever since I discovered her  she helps me earn via trading I have recovered all my losses back to the fullest  Payout automatic withdrawal directly into your wallet. You can contact her here on Facebook Smartoptiontrader\n",
      "Name: entry_text, dtype: object\n"
     ]
    }
   ],
   "source": [
    "pd.set_option('display.max_colwidth', None)\n",
    "print(trolls[\"entry_text\"][0:10])"
   ]
  },
  {
   "cell_type": "code",
   "execution_count": 8,
   "metadata": {},
   "outputs": [],
   "source": [
    "non_troll = df[~df.isin(trolls)].dropna()"
   ]
  },
  {
   "cell_type": "code",
   "execution_count": 9,
   "metadata": {},
   "outputs": [
    {
     "data": {
      "text/plain": [
       "64240"
      ]
     },
     "execution_count": 9,
     "metadata": {},
     "output_type": "execute_result"
    }
   ],
   "source": [
    "len(non_troll)"
   ]
  },
  {
   "cell_type": "code",
   "execution_count": 10,
   "metadata": {},
   "outputs": [
    {
     "data": {
      "text/plain": [
       "0                                                                                                                                                               2021 repeat 2020, wuhan delta. 2022 repeat 2021. Delta omicron\n",
       "1                                                                                                                                                                                                             why not call OMG\n",
       "2                                                                                                                                                                                                     The world had enough...😔\n",
       "3                                                                                                                                                                      Ooh aaah scary. I hear they have the LIGMA variant too.\n",
       "4                                                                                                                                                                                       So how? Wait for it come, then u blur?\n",
       "5                                                                                                                Border restriction to HK, Beligum & Isrseal should impose too.. \\nprevention is better than cure.. pls pls do\n",
       "6                                                                                                                                                                                                                        Great\n",
       "7                                                                                                                                                                                    Gong Simi 🐦 lehhh???kihonggang lahhhhh!!!\n",
       "8    Corona is a trigger to make people happy again with Metaverse. We are kept blind!! Wartechnology is going to be Metaverse!! Egypt never fell, even if they always tell this, they just want to make it bigger in silent!!\n",
       "9                                                                                                                                                                                             We will have it sooner or later.\n",
       "Name: entry_text, dtype: object"
      ]
     },
     "execution_count": 10,
     "metadata": {},
     "output_type": "execute_result"
    }
   ],
   "source": [
    "non_troll[\"entry_text\"][0:10]"
   ]
  },
  {
   "cell_type": "code",
   "execution_count": 11,
   "metadata": {},
   "outputs": [
    {
     "name": "stderr",
     "output_type": "stream",
     "text": [
      "C:\\Users\\othmana\\.conda\\envs\\testing\\lib\\site-packages\\pandas\\core\\strings.py:1952: UserWarning: This pattern has match groups. To actually get the groups, use str.extract.\n",
      "  return func(self, *args, **kwargs)\n"
     ]
    }
   ],
   "source": [
    "#email addresses\n",
    "email = non_troll.loc[non_troll[\"entry_text\"].str.contains(\"([a-zA-Z0-9_.+-]+@[a-zA-Z0-9-]+\\.[a-zA-Z0-9-.]+)\")]"
   ]
  },
  {
   "cell_type": "code",
   "execution_count": 12,
   "metadata": {},
   "outputs": [],
   "source": [
    "non_email = non_troll[~non_troll.isin(email)].dropna()"
   ]
  },
  {
   "cell_type": "code",
   "execution_count": 13,
   "metadata": {},
   "outputs": [
    {
     "data": {
      "text/plain": [
       "0                                                                                                                                                               2021 repeat 2020, wuhan delta. 2022 repeat 2021. Delta omicron\n",
       "1                                                                                                                                                                                                             why not call OMG\n",
       "2                                                                                                                                                                                                     The world had enough...😔\n",
       "3                                                                                                                                                                      Ooh aaah scary. I hear they have the LIGMA variant too.\n",
       "4                                                                                                                                                                                       So how? Wait for it come, then u blur?\n",
       "5                                                                                                                Border restriction to HK, Beligum & Isrseal should impose too.. \\nprevention is better than cure.. pls pls do\n",
       "6                                                                                                                                                                                                                        Great\n",
       "7                                                                                                                                                                                    Gong Simi 🐦 lehhh???kihonggang lahhhhh!!!\n",
       "8    Corona is a trigger to make people happy again with Metaverse. We are kept blind!! Wartechnology is going to be Metaverse!! Egypt never fell, even if they always tell this, they just want to make it bigger in silent!!\n",
       "9                                                                                                                                                                                             We will have it sooner or later.\n",
       "Name: entry_text, dtype: object"
      ]
     },
     "execution_count": 13,
     "metadata": {},
     "output_type": "execute_result"
    }
   ],
   "source": [
    "non_email[\"entry_text\"][0:10]"
   ]
  },
  {
   "cell_type": "code",
   "execution_count": 14,
   "metadata": {},
   "outputs": [],
   "source": [
    "#1-charac comments\n",
    "non_one_char = non_email[~(non_email['entry_text'].str.len()==1)]"
   ]
  },
  {
   "cell_type": "code",
   "execution_count": 15,
   "metadata": {},
   "outputs": [
    {
     "data": {
      "text/html": [
       "<div>\n",
       "<style scoped>\n",
       "    .dataframe tbody tr th:only-of-type {\n",
       "        vertical-align: middle;\n",
       "    }\n",
       "\n",
       "    .dataframe tbody tr th {\n",
       "        vertical-align: top;\n",
       "    }\n",
       "\n",
       "    .dataframe thead th {\n",
       "        text-align: right;\n",
       "    }\n",
       "</style>\n",
       "<table border=\"1\" class=\"dataframe\">\n",
       "  <thead>\n",
       "    <tr style=\"text-align: right;\">\n",
       "      <th></th>\n",
       "      <th>Unnamed: 0</th>\n",
       "      <th>Unnamed: 0.1</th>\n",
       "      <th>page_id</th>\n",
       "      <th>post_id</th>\n",
       "      <th>user_id</th>\n",
       "      <th>username</th>\n",
       "      <th>entry_id</th>\n",
       "      <th>entry_text</th>\n",
       "      <th>entry_timestamp</th>\n",
       "      <th>creation_time</th>\n",
       "      <th>...</th>\n",
       "      <th>joy_score</th>\n",
       "      <th>sadness_score</th>\n",
       "      <th>valence</th>\n",
       "      <th>emotion_score</th>\n",
       "      <th>sentiment_score</th>\n",
       "      <th>emotion_category</th>\n",
       "      <th>sentiment_category</th>\n",
       "      <th>utc_time</th>\n",
       "      <th>sg_time</th>\n",
       "      <th>date</th>\n",
       "    </tr>\n",
       "  </thead>\n",
       "  <tbody>\n",
       "    <tr>\n",
       "      <th>0</th>\n",
       "      <td>2.0</td>\n",
       "      <td>175537.0</td>\n",
       "      <td>9.388943e+10</td>\n",
       "      <td>93889432933_10158650785047934</td>\n",
       "      <td>0.0</td>\n",
       "      <td>-</td>\n",
       "      <td>1.015865e+16</td>\n",
       "      <td>2021 repeat 2020, wuhan delta. 2022 repeat 2021. Delta omicron</td>\n",
       "      <td>0.0</td>\n",
       "      <td>1.637977e+09</td>\n",
       "      <td>...</td>\n",
       "      <td>0.326</td>\n",
       "      <td>0.379</td>\n",
       "      <td>0.474</td>\n",
       "      <td>4.0</td>\n",
       "      <td>-1.0</td>\n",
       "      <td>anger</td>\n",
       "      <td>negative</td>\n",
       "      <td>2021-11-27 01:42:37</td>\n",
       "      <td>2021-11-27 17:42:37</td>\n",
       "      <td>2021-11-27</td>\n",
       "    </tr>\n",
       "    <tr>\n",
       "      <th>1</th>\n",
       "      <td>24.0</td>\n",
       "      <td>163330.0</td>\n",
       "      <td>5.923086e+14</td>\n",
       "      <td>592308557475467_4963343103705302</td>\n",
       "      <td>0.0</td>\n",
       "      <td>-</td>\n",
       "      <td>4.963351e+15</td>\n",
       "      <td>why not call OMG</td>\n",
       "      <td>0.0</td>\n",
       "      <td>1.637925e+09</td>\n",
       "      <td>...</td>\n",
       "      <td>0.182</td>\n",
       "      <td>0.432</td>\n",
       "      <td>0.343</td>\n",
       "      <td>4.0</td>\n",
       "      <td>-1.0</td>\n",
       "      <td>sadness</td>\n",
       "      <td>negative</td>\n",
       "      <td>2021-11-26 11:03:09</td>\n",
       "      <td>2021-11-27 03:03:09</td>\n",
       "      <td>2021-11-27</td>\n",
       "    </tr>\n",
       "    <tr>\n",
       "      <th>2</th>\n",
       "      <td>37.0</td>\n",
       "      <td>163331.0</td>\n",
       "      <td>5.923086e+14</td>\n",
       "      <td>592308557475467_4963343103705302</td>\n",
       "      <td>0.0</td>\n",
       "      <td>-</td>\n",
       "      <td>4.963365e+15</td>\n",
       "      <td>The world had enough...😔</td>\n",
       "      <td>0.0</td>\n",
       "      <td>1.637925e+09</td>\n",
       "      <td>...</td>\n",
       "      <td>0.184</td>\n",
       "      <td>0.604</td>\n",
       "      <td>0.314</td>\n",
       "      <td>6.0</td>\n",
       "      <td>-1.0</td>\n",
       "      <td>sadness</td>\n",
       "      <td>negative</td>\n",
       "      <td>2021-11-26 11:09:27</td>\n",
       "      <td>2021-11-27 03:09:27</td>\n",
       "      <td>2021-11-27</td>\n",
       "    </tr>\n",
       "    <tr>\n",
       "      <th>3</th>\n",
       "      <td>40.0</td>\n",
       "      <td>163332.0</td>\n",
       "      <td>5.923086e+14</td>\n",
       "      <td>592308557475467_4963343103705302</td>\n",
       "      <td>0.0</td>\n",
       "      <td>-</td>\n",
       "      <td>4.963368e+15</td>\n",
       "      <td>Ooh aaah scary. I hear they have the LIGMA variant too.</td>\n",
       "      <td>0.0</td>\n",
       "      <td>1.637925e+09</td>\n",
       "      <td>...</td>\n",
       "      <td>0.319</td>\n",
       "      <td>0.448</td>\n",
       "      <td>0.422</td>\n",
       "      <td>5.0</td>\n",
       "      <td>-1.0</td>\n",
       "      <td>fear</td>\n",
       "      <td>negative</td>\n",
       "      <td>2021-11-26 11:10:41</td>\n",
       "      <td>2021-11-27 03:10:41</td>\n",
       "      <td>2021-11-27</td>\n",
       "    </tr>\n",
       "    <tr>\n",
       "      <th>4</th>\n",
       "      <td>45.0</td>\n",
       "      <td>163333.0</td>\n",
       "      <td>5.923086e+14</td>\n",
       "      <td>592308557475467_4963343103705302</td>\n",
       "      <td>0.0</td>\n",
       "      <td>-</td>\n",
       "      <td>4.963375e+15</td>\n",
       "      <td>So how? Wait for it come, then u blur?</td>\n",
       "      <td>0.0</td>\n",
       "      <td>1.637925e+09</td>\n",
       "      <td>...</td>\n",
       "      <td>0.307</td>\n",
       "      <td>0.415</td>\n",
       "      <td>0.406</td>\n",
       "      <td>4.0</td>\n",
       "      <td>-1.0</td>\n",
       "      <td>anger</td>\n",
       "      <td>negative</td>\n",
       "      <td>2021-11-26 11:13:24</td>\n",
       "      <td>2021-11-27 03:13:24</td>\n",
       "      <td>2021-11-27</td>\n",
       "    </tr>\n",
       "    <tr>\n",
       "      <th>5</th>\n",
       "      <td>47.0</td>\n",
       "      <td>163336.0</td>\n",
       "      <td>5.923086e+14</td>\n",
       "      <td>592308557475467_4963343103705302</td>\n",
       "      <td>0.0</td>\n",
       "      <td>-</td>\n",
       "      <td>4.963388e+15</td>\n",
       "      <td>Border restriction to HK, Beligum &amp; Isrseal should impose too.. \\nprevention is better than cure.. pls pls do</td>\n",
       "      <td>0.0</td>\n",
       "      <td>1.637926e+09</td>\n",
       "      <td>...</td>\n",
       "      <td>0.212</td>\n",
       "      <td>0.520</td>\n",
       "      <td>0.392</td>\n",
       "      <td>5.0</td>\n",
       "      <td>-1.0</td>\n",
       "      <td>fear</td>\n",
       "      <td>negative</td>\n",
       "      <td>2021-11-26 11:19:50</td>\n",
       "      <td>2021-11-27 03:19:50</td>\n",
       "      <td>2021-11-27</td>\n",
       "    </tr>\n",
       "    <tr>\n",
       "      <th>6</th>\n",
       "      <td>52.0</td>\n",
       "      <td>163334.0</td>\n",
       "      <td>5.923086e+14</td>\n",
       "      <td>592308557475467_4963343103705302</td>\n",
       "      <td>0.0</td>\n",
       "      <td>-</td>\n",
       "      <td>4.963385e+15</td>\n",
       "      <td>Great</td>\n",
       "      <td>0.0</td>\n",
       "      <td>1.637926e+09</td>\n",
       "      <td>...</td>\n",
       "      <td>0.418</td>\n",
       "      <td>0.273</td>\n",
       "      <td>0.625</td>\n",
       "      <td>4.0</td>\n",
       "      <td>1.0</td>\n",
       "      <td>joy</td>\n",
       "      <td>positive</td>\n",
       "      <td>2021-11-26 11:18:29</td>\n",
       "      <td>2021-11-27 03:18:29</td>\n",
       "      <td>2021-11-27</td>\n",
       "    </tr>\n",
       "    <tr>\n",
       "      <th>7</th>\n",
       "      <td>64.0</td>\n",
       "      <td>163335.0</td>\n",
       "      <td>5.923086e+14</td>\n",
       "      <td>592308557475467_4963343103705302</td>\n",
       "      <td>0.0</td>\n",
       "      <td>-</td>\n",
       "      <td>4.963387e+15</td>\n",
       "      <td>Gong Simi 🐦 lehhh???kihonggang lahhhhh!!!</td>\n",
       "      <td>0.0</td>\n",
       "      <td>1.637926e+09</td>\n",
       "      <td>...</td>\n",
       "      <td>0.310</td>\n",
       "      <td>0.412</td>\n",
       "      <td>0.354</td>\n",
       "      <td>5.0</td>\n",
       "      <td>-1.0</td>\n",
       "      <td>fear</td>\n",
       "      <td>negative</td>\n",
       "      <td>2021-11-26 11:18:57</td>\n",
       "      <td>2021-11-27 03:18:57</td>\n",
       "      <td>2021-11-27</td>\n",
       "    </tr>\n",
       "    <tr>\n",
       "      <th>8</th>\n",
       "      <td>76.0</td>\n",
       "      <td>163337.0</td>\n",
       "      <td>5.923086e+14</td>\n",
       "      <td>592308557475467_4963343103705302</td>\n",
       "      <td>0.0</td>\n",
       "      <td>-</td>\n",
       "      <td>4.963403e+15</td>\n",
       "      <td>Corona is a trigger to make people happy again with Metaverse. We are kept blind!! Wartechnology is going to be Metaverse!! Egypt never fell, even if they always tell this, they just want to make it bigger in silent!!</td>\n",
       "      <td>0.0</td>\n",
       "      <td>1.637926e+09</td>\n",
       "      <td>...</td>\n",
       "      <td>0.306</td>\n",
       "      <td>0.392</td>\n",
       "      <td>0.474</td>\n",
       "      <td>5.0</td>\n",
       "      <td>-1.0</td>\n",
       "      <td>anger</td>\n",
       "      <td>negative</td>\n",
       "      <td>2021-11-26 11:26:09</td>\n",
       "      <td>2021-11-27 03:26:09</td>\n",
       "      <td>2021-11-27</td>\n",
       "    </tr>\n",
       "    <tr>\n",
       "      <th>9</th>\n",
       "      <td>88.0</td>\n",
       "      <td>163338.0</td>\n",
       "      <td>5.923086e+14</td>\n",
       "      <td>592308557475467_4963343103705302</td>\n",
       "      <td>0.0</td>\n",
       "      <td>-</td>\n",
       "      <td>4.963408e+15</td>\n",
       "      <td>We will have it sooner or later.</td>\n",
       "      <td>0.0</td>\n",
       "      <td>1.637926e+09</td>\n",
       "      <td>...</td>\n",
       "      <td>0.300</td>\n",
       "      <td>0.302</td>\n",
       "      <td>0.536</td>\n",
       "      <td>3.0</td>\n",
       "      <td>1.0</td>\n",
       "      <td>joy</td>\n",
       "      <td>positive</td>\n",
       "      <td>2021-11-26 11:28:28</td>\n",
       "      <td>2021-11-27 03:28:28</td>\n",
       "      <td>2021-11-27</td>\n",
       "    </tr>\n",
       "  </tbody>\n",
       "</table>\n",
       "<p>10 rows × 22 columns</p>\n",
       "</div>"
      ],
      "text/plain": [
       "   Unnamed: 0  Unnamed: 0.1       page_id                           post_id  \\\n",
       "0         2.0      175537.0  9.388943e+10     93889432933_10158650785047934   \n",
       "1        24.0      163330.0  5.923086e+14  592308557475467_4963343103705302   \n",
       "2        37.0      163331.0  5.923086e+14  592308557475467_4963343103705302   \n",
       "3        40.0      163332.0  5.923086e+14  592308557475467_4963343103705302   \n",
       "4        45.0      163333.0  5.923086e+14  592308557475467_4963343103705302   \n",
       "5        47.0      163336.0  5.923086e+14  592308557475467_4963343103705302   \n",
       "6        52.0      163334.0  5.923086e+14  592308557475467_4963343103705302   \n",
       "7        64.0      163335.0  5.923086e+14  592308557475467_4963343103705302   \n",
       "8        76.0      163337.0  5.923086e+14  592308557475467_4963343103705302   \n",
       "9        88.0      163338.0  5.923086e+14  592308557475467_4963343103705302   \n",
       "\n",
       "   user_id username      entry_id  \\\n",
       "0      0.0        -  1.015865e+16   \n",
       "1      0.0        -  4.963351e+15   \n",
       "2      0.0        -  4.963365e+15   \n",
       "3      0.0        -  4.963368e+15   \n",
       "4      0.0        -  4.963375e+15   \n",
       "5      0.0        -  4.963388e+15   \n",
       "6      0.0        -  4.963385e+15   \n",
       "7      0.0        -  4.963387e+15   \n",
       "8      0.0        -  4.963403e+15   \n",
       "9      0.0        -  4.963408e+15   \n",
       "\n",
       "                                                                                                                                                                                                                  entry_text  \\\n",
       "0                                                                                                                                                             2021 repeat 2020, wuhan delta. 2022 repeat 2021. Delta omicron   \n",
       "1                                                                                                                                                                                                           why not call OMG   \n",
       "2                                                                                                                                                                                                   The world had enough...😔   \n",
       "3                                                                                                                                                                    Ooh aaah scary. I hear they have the LIGMA variant too.   \n",
       "4                                                                                                                                                                                     So how? Wait for it come, then u blur?   \n",
       "5                                                                                                              Border restriction to HK, Beligum & Isrseal should impose too.. \\nprevention is better than cure.. pls pls do   \n",
       "6                                                                                                                                                                                                                      Great   \n",
       "7                                                                                                                                                                                  Gong Simi 🐦 lehhh???kihonggang lahhhhh!!!   \n",
       "8  Corona is a trigger to make people happy again with Metaverse. We are kept blind!! Wartechnology is going to be Metaverse!! Egypt never fell, even if they always tell this, they just want to make it bigger in silent!!   \n",
       "9                                                                                                                                                                                           We will have it sooner or later.   \n",
       "\n",
       "   entry_timestamp  creation_time  ...  joy_score  sadness_score  valence  \\\n",
       "0              0.0   1.637977e+09  ...      0.326          0.379    0.474   \n",
       "1              0.0   1.637925e+09  ...      0.182          0.432    0.343   \n",
       "2              0.0   1.637925e+09  ...      0.184          0.604    0.314   \n",
       "3              0.0   1.637925e+09  ...      0.319          0.448    0.422   \n",
       "4              0.0   1.637925e+09  ...      0.307          0.415    0.406   \n",
       "5              0.0   1.637926e+09  ...      0.212          0.520    0.392   \n",
       "6              0.0   1.637926e+09  ...      0.418          0.273    0.625   \n",
       "7              0.0   1.637926e+09  ...      0.310          0.412    0.354   \n",
       "8              0.0   1.637926e+09  ...      0.306          0.392    0.474   \n",
       "9              0.0   1.637926e+09  ...      0.300          0.302    0.536   \n",
       "\n",
       "   emotion_score  sentiment_score  emotion_category  sentiment_category  \\\n",
       "0            4.0             -1.0             anger            negative   \n",
       "1            4.0             -1.0           sadness            negative   \n",
       "2            6.0             -1.0           sadness            negative   \n",
       "3            5.0             -1.0              fear            negative   \n",
       "4            4.0             -1.0             anger            negative   \n",
       "5            5.0             -1.0              fear            negative   \n",
       "6            4.0              1.0               joy            positive   \n",
       "7            5.0             -1.0              fear            negative   \n",
       "8            5.0             -1.0             anger            negative   \n",
       "9            3.0              1.0               joy            positive   \n",
       "\n",
       "              utc_time              sg_time        date  \n",
       "0  2021-11-27 01:42:37  2021-11-27 17:42:37  2021-11-27  \n",
       "1  2021-11-26 11:03:09  2021-11-27 03:03:09  2021-11-27  \n",
       "2  2021-11-26 11:09:27  2021-11-27 03:09:27  2021-11-27  \n",
       "3  2021-11-26 11:10:41  2021-11-27 03:10:41  2021-11-27  \n",
       "4  2021-11-26 11:13:24  2021-11-27 03:13:24  2021-11-27  \n",
       "5  2021-11-26 11:19:50  2021-11-27 03:19:50  2021-11-27  \n",
       "6  2021-11-26 11:18:29  2021-11-27 03:18:29  2021-11-27  \n",
       "7  2021-11-26 11:18:57  2021-11-27 03:18:57  2021-11-27  \n",
       "8  2021-11-26 11:26:09  2021-11-27 03:26:09  2021-11-27  \n",
       "9  2021-11-26 11:28:28  2021-11-27 03:28:28  2021-11-27  \n",
       "\n",
       "[10 rows x 22 columns]"
      ]
     },
     "execution_count": 15,
     "metadata": {},
     "output_type": "execute_result"
    }
   ],
   "source": [
    "non_one_char[0:10]"
   ]
  },
  {
   "cell_type": "code",
   "execution_count": 16,
   "metadata": {},
   "outputs": [],
   "source": [
    "#comments with punctuation only\n",
    "import string\n",
    "def remove_punctuation(text): \n",
    "    no_punct = ''.join([c for c in text if c not in string.punctuation])\n",
    "    return no_punct\n",
    "\n",
    "non_one_char['processed_content']=non_one_char['entry_text'].apply(remove_punctuation)\n",
    "non_punct = non_one_char[~(non_one_char['processed_content']=='')]"
   ]
  },
  {
   "cell_type": "code",
   "execution_count": 17,
   "metadata": {},
   "outputs": [
    {
     "name": "stdout",
     "output_type": "stream",
     "text": [
      "       Unnamed: 0  Unnamed: 0.1       page_id  \\\n",
      "0             2.0      175537.0  9.388943e+10   \n",
      "1            24.0      163330.0  5.923086e+14   \n",
      "2            37.0      163331.0  5.923086e+14   \n",
      "3            40.0      163332.0  5.923086e+14   \n",
      "4            45.0      163333.0  5.923086e+14   \n",
      "...           ...           ...           ...   \n",
      "67032    202176.0      170798.0  5.923086e+14   \n",
      "67033    202177.0       79732.0  1.290117e+11   \n",
      "67034    202199.0      170776.0  5.923086e+14   \n",
      "67035    202200.0      202422.0  9.388943e+10   \n",
      "67036    202254.0       79535.0  1.290117e+11   \n",
      "\n",
      "                                post_id  user_id username      entry_id  \\\n",
      "0         93889432933_10158650785047934      0.0        -  1.015865e+16   \n",
      "1      592308557475467_4963343103705302      0.0        -  4.963351e+15   \n",
      "2      592308557475467_4963343103705302      0.0        -  4.963365e+15   \n",
      "3      592308557475467_4963343103705302      0.0        -  4.963368e+15   \n",
      "4      592308557475467_4963343103705302      0.0        -  4.963375e+15   \n",
      "...                                 ...      ...      ...           ...   \n",
      "67032  592308557475467_5092619240777687      0.0        -  5.095154e+15   \n",
      "67033    129011692114_10158309103362115      0.0        -  1.015831e+16   \n",
      "67034  592308557475467_5091520774220867      0.0        -  5.095261e+15   \n",
      "67035     93889432933_10158704843332934      0.0        -  1.015871e+16   \n",
      "67036    129011692114_10158308841777115      0.0        -  1.015831e+16   \n",
      "\n",
      "                                                                                                                                     entry_text  \\\n",
      "0                                                                                2021 repeat 2020, wuhan delta. 2022 repeat 2021. Delta omicron   \n",
      "1                                                                                                                              why not call OMG   \n",
      "2                                                                                                                      The world had enough...😔   \n",
      "3                                                                                       Ooh aaah scary. I hear they have the LIGMA variant too.   \n",
      "4                                                                                                        So how? Wait for it come, then u blur?   \n",
      "...                                                                                                                                         ...   \n",
      "67032                                                          Ongka Guan many people without wearing masks are already not breathing properly.   \n",
      "67033                                                                                             Good move Brunei 👍🏽👏🏽👏🏽,, \\nSINKapore 😴👎🏽👎🏽👎🏽   \n",
      "67034                                                                                                             Got people go Brunei ah ? Lol   \n",
      "67035  why Tai Wan is willing to share the data? No. of people die due to vaccination is 1225 till yesterday\\n台湾承认的因打疫苗死亡的人数1225人，新加坡疫苗难道比他们的好？   \n",
      "67036                                                                               For real? Now then they realised it's not a hoax or a myth?   \n",
      "\n",
      "       entry_timestamp  creation_time  ...  sadness_score  valence  \\\n",
      "0                  0.0   1.637977e+09  ...          0.379    0.474   \n",
      "1                  0.0   1.637925e+09  ...          0.432    0.343   \n",
      "2                  0.0   1.637925e+09  ...          0.604    0.314   \n",
      "3                  0.0   1.637925e+09  ...          0.448    0.422   \n",
      "4                  0.0   1.637925e+09  ...          0.415    0.406   \n",
      "...                ...            ...  ...            ...      ...   \n",
      "67032              0.0   1.640927e+09  ...          0.430    0.385   \n",
      "67033              0.0   1.640925e+09  ...          0.310    0.593   \n",
      "67034              0.0   1.640930e+09  ...          0.342    0.528   \n",
      "67035              0.0   1.640930e+09  ...          0.384    0.453   \n",
      "67036              0.0   1.640936e+09  ...          0.437    0.390   \n",
      "\n",
      "       emotion_score  sentiment_score  emotion_category  sentiment_category  \\\n",
      "0                4.0             -1.0             anger            negative   \n",
      "1                4.0             -1.0           sadness            negative   \n",
      "2                6.0             -1.0           sadness            negative   \n",
      "3                5.0             -1.0              fear            negative   \n",
      "4                4.0             -1.0             anger            negative   \n",
      "...              ...              ...               ...                 ...   \n",
      "67032            5.0             -1.0              fear            negative   \n",
      "67033            5.0              1.0               joy            positive   \n",
      "67034            4.0              1.0               joy            positive   \n",
      "67035            5.0             -1.0              fear            negative   \n",
      "67036            5.0             -1.0              fear            negative   \n",
      "\n",
      "                  utc_time              sg_time        date  \\\n",
      "0      2021-11-27 01:42:37  2021-11-27 17:42:37  2021-11-27   \n",
      "1      2021-11-26 11:03:09  2021-11-27 03:03:09  2021-11-27   \n",
      "2      2021-11-26 11:09:27  2021-11-27 03:09:27  2021-11-27   \n",
      "3      2021-11-26 11:10:41  2021-11-27 03:10:41  2021-11-27   \n",
      "4      2021-11-26 11:13:24  2021-11-27 03:13:24  2021-11-27   \n",
      "...                    ...                  ...         ...   \n",
      "67032  2021-12-31 05:09:02  2021-12-31 21:09:02  2021-12-31   \n",
      "67033  2021-12-31 04:33:39  2021-12-31 20:33:39  2021-12-31   \n",
      "67034  2021-12-31 05:46:29  2021-12-31 21:46:29  2021-12-31   \n",
      "67035  2021-12-31 05:48:00  2021-12-31 21:48:00  2021-12-31   \n",
      "67036  2021-12-31 07:31:56  2021-12-31 23:31:56  2021-12-31   \n",
      "\n",
      "                                                                                                                            processed_content  \n",
      "0                                                                                 2021 repeat 2020 wuhan delta 2022 repeat 2021 Delta omicron  \n",
      "1                                                                                                                            why not call OMG  \n",
      "2                                                                                                                       The world had enough😔  \n",
      "3                                                                                       Ooh aaah scary I hear they have the LIGMA variant too  \n",
      "4                                                                                                         So how Wait for it come then u blur  \n",
      "...                                                                                                                                       ...  \n",
      "67032                                                         Ongka Guan many people without wearing masks are already not breathing properly  \n",
      "67033                                                                                             Good move Brunei 👍🏽👏🏽👏🏽 \\nSINKapore 😴👎🏽👎🏽👎🏽  \n",
      "67034                                                                                                            Got people go Brunei ah  Lol  \n",
      "67035  why Tai Wan is willing to share the data No of people die due to vaccination is 1225 till yesterday\\n台湾承认的因打疫苗死亡的人数1225人，新加坡疫苗难道比他们的好？  \n",
      "67036                                                                                For real Now then they realised its not a hoax or a myth  \n",
      "\n",
      "[64234 rows x 23 columns]\n"
     ]
    },
    {
     "ename": "TypeError",
     "evalue": "'NoneType' object is not subscriptable",
     "output_type": "error",
     "traceback": [
      "\u001b[1;31m---------------------------------------------------------------------------\u001b[0m",
      "\u001b[1;31mTypeError\u001b[0m                                 Traceback (most recent call last)",
      "\u001b[1;32m<ipython-input-17-085835f6a0f9>\u001b[0m in \u001b[0;36m<module>\u001b[1;34m\u001b[0m\n\u001b[1;32m----> 1\u001b[1;33m \u001b[0mprint\u001b[0m\u001b[1;33m(\u001b[0m\u001b[0mnon_punct\u001b[0m\u001b[1;33m)\u001b[0m\u001b[1;33m[\u001b[0m\u001b[1;36m0\u001b[0m\u001b[1;33m:\u001b[0m\u001b[1;36m10\u001b[0m\u001b[1;33m]\u001b[0m\u001b[1;33m\u001b[0m\u001b[1;33m\u001b[0m\u001b[0m\n\u001b[0m",
      "\u001b[1;31mTypeError\u001b[0m: 'NoneType' object is not subscriptable"
     ]
    }
   ],
   "source": [
    "print(non_punct)[0:10]"
   ]
  },
  {
   "cell_type": "code",
   "execution_count": 18,
   "metadata": {},
   "outputs": [
    {
     "data": {
      "text/plain": [
       "64234"
      ]
     },
     "execution_count": 18,
     "metadata": {},
     "output_type": "execute_result"
    }
   ],
   "source": [
    "len(non_punct)"
   ]
  },
  {
   "cell_type": "code",
   "execution_count": 19,
   "metadata": {},
   "outputs": [
    {
     "data": {
      "text/plain": [
       "2803"
      ]
     },
     "execution_count": 19,
     "metadata": {},
     "output_type": "execute_result"
    }
   ],
   "source": [
    "67037-64234"
   ]
  },
  {
   "cell_type": "code",
   "execution_count": 20,
   "metadata": {},
   "outputs": [],
   "source": [
    "non_punct.to_csv('fb comments omicron only with correct date SG ONLY removed trolls.csv')"
   ]
  },
  {
   "cell_type": "code",
   "execution_count": null,
   "metadata": {},
   "outputs": [],
   "source": []
  }
 ],
 "metadata": {
  "kernelspec": {
   "display_name": "Python 3",
   "language": "python",
   "name": "python3"
  },
  "language_info": {
   "codemirror_mode": {
    "name": "ipython",
    "version": 3
   },
   "file_extension": ".py",
   "mimetype": "text/x-python",
   "name": "python",
   "nbconvert_exporter": "python",
   "pygments_lexer": "ipython3",
   "version": "3.6.10"
  }
 },
 "nbformat": 4,
 "nbformat_minor": 4
}
