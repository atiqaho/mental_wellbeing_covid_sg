{
 "cells": [
  {
   "cell_type": "code",
   "execution_count": 1,
   "metadata": {},
   "outputs": [],
   "source": [
    "import pandas as pd\n",
    "#read dataset\n",
    "df = pd.read_csv('fb_part12_sgonly.csv') #insert file name"
   ]
  },
  {
   "cell_type": "code",
   "execution_count": 2,
   "metadata": {},
   "outputs": [
    {
     "data": {
      "text/plain": [
       "Index(['Unnamed: 0.2', 'Unnamed: 0.1', 'Unnamed: 0', 'page_id', 'post_id',\n",
       "       'user_id', 'username', 'entry_id', 'entry_text', 'entry_timestamp',\n",
       "       'creation_time', 'anger_score', 'fear_score', 'joy_score',\n",
       "       'sadness_score', 'valence', 'emotion_score', 'sentiment_score',\n",
       "       'emotion_category', 'sentiment_category'],\n",
       "      dtype='object')"
      ]
     },
     "execution_count": 2,
     "metadata": {},
     "output_type": "execute_result"
    }
   ],
   "source": [
    "df.columns"
   ]
  },
  {
   "cell_type": "code",
   "execution_count": 3,
   "metadata": {},
   "outputs": [
    {
     "data": {
      "text/html": [
       "<div>\n",
       "<style scoped>\n",
       "    .dataframe tbody tr th:only-of-type {\n",
       "        vertical-align: middle;\n",
       "    }\n",
       "\n",
       "    .dataframe tbody tr th {\n",
       "        vertical-align: top;\n",
       "    }\n",
       "\n",
       "    .dataframe thead th {\n",
       "        text-align: right;\n",
       "    }\n",
       "</style>\n",
       "<table border=\"1\" class=\"dataframe\">\n",
       "  <thead>\n",
       "    <tr style=\"text-align: right;\">\n",
       "      <th></th>\n",
       "      <th>Unnamed: 0.2</th>\n",
       "      <th>Unnamed: 0.1</th>\n",
       "      <th>Unnamed: 0</th>\n",
       "      <th>page_id</th>\n",
       "      <th>post_id</th>\n",
       "      <th>user_id</th>\n",
       "      <th>username</th>\n",
       "      <th>entry_id</th>\n",
       "      <th>entry_text</th>\n",
       "      <th>entry_timestamp</th>\n",
       "      <th>creation_time</th>\n",
       "      <th>anger_score</th>\n",
       "      <th>fear_score</th>\n",
       "      <th>joy_score</th>\n",
       "      <th>sadness_score</th>\n",
       "      <th>valence</th>\n",
       "      <th>emotion_score</th>\n",
       "      <th>sentiment_score</th>\n",
       "      <th>emotion_category</th>\n",
       "      <th>sentiment_category</th>\n",
       "    </tr>\n",
       "  </thead>\n",
       "  <tbody>\n",
       "    <tr>\n",
       "      <th>0</th>\n",
       "      <td>0</td>\n",
       "      <td>11000000</td>\n",
       "      <td>767245</td>\n",
       "      <td>93889432933</td>\n",
       "      <td>93889432933_10158541837572934</td>\n",
       "      <td>0</td>\n",
       "      <td>-</td>\n",
       "      <td>10158541913002934</td>\n",
       "      <td>So is this news fake or giving false hope? No ...</td>\n",
       "      <td>0</td>\n",
       "      <td>1632444466</td>\n",
       "      <td>0.514</td>\n",
       "      <td>0.487</td>\n",
       "      <td>0.162</td>\n",
       "      <td>0.509</td>\n",
       "      <td>0.307</td>\n",
       "      <td>5.0</td>\n",
       "      <td>-1.0</td>\n",
       "      <td>anger</td>\n",
       "      <td>negative</td>\n",
       "    </tr>\n",
       "    <tr>\n",
       "      <th>1</th>\n",
       "      <td>1</td>\n",
       "      <td>11000001</td>\n",
       "      <td>767246</td>\n",
       "      <td>93889432933</td>\n",
       "      <td>93889432933_10158541837572934</td>\n",
       "      <td>0</td>\n",
       "      <td>-</td>\n",
       "      <td>10158541913497934</td>\n",
       "      <td>My sister said situation getting bad.</td>\n",
       "      <td>0</td>\n",
       "      <td>1632444507</td>\n",
       "      <td>0.522</td>\n",
       "      <td>0.554</td>\n",
       "      <td>0.203</td>\n",
       "      <td>0.620</td>\n",
       "      <td>0.295</td>\n",
       "      <td>6.0</td>\n",
       "      <td>-2.0</td>\n",
       "      <td>sadness</td>\n",
       "      <td>very negative</td>\n",
       "    </tr>\n",
       "    <tr>\n",
       "      <th>2</th>\n",
       "      <td>2</td>\n",
       "      <td>11000002</td>\n",
       "      <td>767247</td>\n",
       "      <td>93889432933</td>\n",
       "      <td>93889432933_10158541837572934</td>\n",
       "      <td>0</td>\n",
       "      <td>-</td>\n",
       "      <td>10158541913697934</td>\n",
       "      <td>When this expert himself gets covid than he wi...</td>\n",
       "      <td>0</td>\n",
       "      <td>1632444528</td>\n",
       "      <td>0.412</td>\n",
       "      <td>0.392</td>\n",
       "      <td>0.290</td>\n",
       "      <td>0.393</td>\n",
       "      <td>0.462</td>\n",
       "      <td>4.0</td>\n",
       "      <td>-1.0</td>\n",
       "      <td>anger</td>\n",
       "      <td>negative</td>\n",
       "    </tr>\n",
       "    <tr>\n",
       "      <th>3</th>\n",
       "      <td>3</td>\n",
       "      <td>11000003</td>\n",
       "      <td>767248</td>\n",
       "      <td>93889432933</td>\n",
       "      <td>93889432933_10158541837572934</td>\n",
       "      <td>0</td>\n",
       "      <td>-</td>\n",
       "      <td>10158541913782934</td>\n",
       "      <td>When even the FAP page also don’t wanna open t...</td>\n",
       "      <td>0</td>\n",
       "      <td>1632444539</td>\n",
       "      <td>0.517</td>\n",
       "      <td>0.473</td>\n",
       "      <td>0.143</td>\n",
       "      <td>0.503</td>\n",
       "      <td>0.298</td>\n",
       "      <td>5.0</td>\n",
       "      <td>-2.0</td>\n",
       "      <td>anger</td>\n",
       "      <td>very negative</td>\n",
       "    </tr>\n",
       "    <tr>\n",
       "      <th>4</th>\n",
       "      <td>4</td>\n",
       "      <td>11000004</td>\n",
       "      <td>767249</td>\n",
       "      <td>93889432933</td>\n",
       "      <td>93889432933_10158541837572934</td>\n",
       "      <td>0</td>\n",
       "      <td>-</td>\n",
       "      <td>10158541914772934</td>\n",
       "      <td>I think the expert is being paid by the govt t...</td>\n",
       "      <td>0</td>\n",
       "      <td>1632444576</td>\n",
       "      <td>0.438</td>\n",
       "      <td>0.362</td>\n",
       "      <td>0.315</td>\n",
       "      <td>0.326</td>\n",
       "      <td>0.486</td>\n",
       "      <td>0.0</td>\n",
       "      <td>0.0</td>\n",
       "      <td>no specific emotion</td>\n",
       "      <td>neutral</td>\n",
       "    </tr>\n",
       "  </tbody>\n",
       "</table>\n",
       "</div>"
      ],
      "text/plain": [
       "   Unnamed: 0.2  Unnamed: 0.1  Unnamed: 0      page_id  \\\n",
       "0             0      11000000      767245  93889432933   \n",
       "1             1      11000001      767246  93889432933   \n",
       "2             2      11000002      767247  93889432933   \n",
       "3             3      11000003      767248  93889432933   \n",
       "4             4      11000004      767249  93889432933   \n",
       "\n",
       "                         post_id  user_id username           entry_id  \\\n",
       "0  93889432933_10158541837572934        0        -  10158541913002934   \n",
       "1  93889432933_10158541837572934        0        -  10158541913497934   \n",
       "2  93889432933_10158541837572934        0        -  10158541913697934   \n",
       "3  93889432933_10158541837572934        0        -  10158541913782934   \n",
       "4  93889432933_10158541837572934        0        -  10158541914772934   \n",
       "\n",
       "                                          entry_text  entry_timestamp  \\\n",
       "0  So is this news fake or giving false hope? No ...                0   \n",
       "1              My sister said situation getting bad.                0   \n",
       "2  When this expert himself gets covid than he wi...                0   \n",
       "3  When even the FAP page also don’t wanna open t...                0   \n",
       "4  I think the expert is being paid by the govt t...                0   \n",
       "\n",
       "   creation_time  anger_score  fear_score  joy_score  sadness_score  valence  \\\n",
       "0     1632444466        0.514       0.487      0.162          0.509    0.307   \n",
       "1     1632444507        0.522       0.554      0.203          0.620    0.295   \n",
       "2     1632444528        0.412       0.392      0.290          0.393    0.462   \n",
       "3     1632444539        0.517       0.473      0.143          0.503    0.298   \n",
       "4     1632444576        0.438       0.362      0.315          0.326    0.486   \n",
       "\n",
       "   emotion_score  sentiment_score     emotion_category sentiment_category  \n",
       "0            5.0             -1.0                anger           negative  \n",
       "1            6.0             -2.0              sadness      very negative  \n",
       "2            4.0             -1.0                anger           negative  \n",
       "3            5.0             -2.0                anger      very negative  \n",
       "4            0.0              0.0  no specific emotion            neutral  "
      ]
     },
     "execution_count": 3,
     "metadata": {},
     "output_type": "execute_result"
    }
   ],
   "source": [
    "df.head()"
   ]
  },
  {
   "cell_type": "code",
   "execution_count": 4,
   "metadata": {},
   "outputs": [
    {
     "data": {
      "text/plain": [
       "415184"
      ]
     },
     "execution_count": 4,
     "metadata": {},
     "output_type": "execute_result"
    }
   ],
   "source": [
    "len(df)"
   ]
  },
  {
   "cell_type": "code",
   "execution_count": 5,
   "metadata": {},
   "outputs": [],
   "source": [
    "#drop duplicates based on entry_id\n",
    "df.drop_duplicates(subset=['entry_id'], keep = 'first', inplace=True)"
   ]
  },
  {
   "cell_type": "code",
   "execution_count": 6,
   "metadata": {},
   "outputs": [
    {
     "data": {
      "text/plain": [
       "415184"
      ]
     },
     "execution_count": 6,
     "metadata": {},
     "output_type": "execute_result"
    }
   ],
   "source": [
    "len(df)"
   ]
  },
  {
   "cell_type": "code",
   "execution_count": 7,
   "metadata": {},
   "outputs": [],
   "source": [
    "#save to new csv if necessary\n",
    "df.to_csv('fb_part12_sgonly_droppeddup.csv') #file name of choice"
   ]
  },
  {
   "cell_type": "code",
   "execution_count": null,
   "metadata": {},
   "outputs": [],
   "source": []
  }
 ],
 "metadata": {
  "kernelspec": {
   "display_name": "Python 3 (ipykernel)",
   "language": "python",
   "name": "python3"
  },
  "language_info": {
   "codemirror_mode": {
    "name": "ipython",
    "version": 3
   },
   "file_extension": ".py",
   "mimetype": "text/x-python",
   "name": "python",
   "nbconvert_exporter": "python",
   "pygments_lexer": "ipython3",
   "version": "3.9.12"
  }
 },
 "nbformat": 4,
 "nbformat_minor": 4
}
