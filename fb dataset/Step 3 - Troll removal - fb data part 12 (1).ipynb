{
 "cells": [
  {
   "cell_type": "code",
   "execution_count": 1,
   "metadata": {},
   "outputs": [],
   "source": [
    "import pandas as pd"
   ]
  },
  {
   "cell_type": "code",
   "execution_count": 2,
   "metadata": {},
   "outputs": [],
   "source": [
    "df = pd.read_csv(\"fb_part12_sgonly_droppeddup.csv\")"
   ]
  },
  {
   "cell_type": "code",
   "execution_count": 3,
   "metadata": {},
   "outputs": [
    {
     "data": {
      "text/plain": [
       "415184"
      ]
     },
     "execution_count": 3,
     "metadata": {},
     "output_type": "execute_result"
    }
   ],
   "source": [
    "len(df)"
   ]
  },
  {
   "cell_type": "code",
   "execution_count": 1,
   "metadata": {},
   "outputs": [
    {
     "data": {
      "text/plain": [
       "12745"
      ]
     },
     "execution_count": 1,
     "metadata": {},
     "output_type": "execute_result"
    }
   ],
   "source": [
    "415184-402439"
   ]
  },
  {
   "cell_type": "code",
   "execution_count": 4,
   "metadata": {},
   "outputs": [
    {
     "data": {
      "text/plain": [
       "Index(['Unnamed: 0.3', 'Unnamed: 0.2', 'Unnamed: 0.1', 'Unnamed: 0', 'page_id',\n",
       "       'post_id', 'user_id', 'username', 'entry_id', 'entry_text',\n",
       "       'entry_timestamp', 'creation_time', 'anger_score', 'fear_score',\n",
       "       'joy_score', 'sadness_score', 'valence', 'emotion_score',\n",
       "       'sentiment_score', 'emotion_category', 'sentiment_category'],\n",
       "      dtype='object')"
      ]
     },
     "execution_count": 4,
     "metadata": {},
     "output_type": "execute_result"
    }
   ],
   "source": [
    "df.columns"
   ]
  },
  {
   "cell_type": "code",
   "execution_count": 5,
   "metadata": {},
   "outputs": [],
   "source": [
    "#troll-like words\n",
    "\n",
    "trolls = df.loc[df[\"entry_text\"].str.contains\n",
    "                (\"\"\"www.facebook|https://t.me/|https://t.me/thestraitstimes|https://t.me/joinchat|https://m.me|whatsapp|whats app|\n",
    "                whatsapp:|whatsap|https://wa.me/|https://chat.whatsapp.com|click the link|click below|click on the link|click on link|\n",
    "                join the link|click here|with the link below|contact him|contact them|contact her|contact mr|contact ms|contact sir|\n",
    "                connect her|connect him|connect me|inbox me|message me|message him|message her|join me|new blog post|map|\n",
    "                spread___create___trade|ask me how|money online|online investment|download|webawealth-traders.com|bitcoin              \n",
    "\"\"\", case=False, na=False)]"
   ]
  },
  {
   "cell_type": "code",
   "execution_count": 6,
   "metadata": {},
   "outputs": [
    {
     "data": {
      "text/plain": [
       "12655"
      ]
     },
     "execution_count": 6,
     "metadata": {},
     "output_type": "execute_result"
    }
   ],
   "source": [
    "len(trolls)"
   ]
  },
  {
   "cell_type": "code",
   "execution_count": 7,
   "metadata": {},
   "outputs": [
    {
     "name": "stdout",
     "output_type": "stream",
     "text": [
      "11             Ang Mo Gao ᴅᴜᴇ ᴛᴏ ᴛʜᴇ ᴄᴏᴠɪᴅ-19  ᴡɪᴛʜ ᴛʜᴇ ʟᴏᴄᴋᴅᴏᴡɴ ᴍᴀɴʏ ᴡᴇʀᴇ ᴍᴀᴅᴇ  ᴊᴏʙʟᴇss ᴏʀ ʟᴏss ᴏғ ɪɴᴄᴏᴍᴇ ᴛᴏ ғᴇᴇᴅ ᴛʜᴇᴍsᴇʟᴠᴇs ᴀɴᴅ ᴛʜᴇɪʀ ғᴀᴍɪʟɪᴇs.  ɪ ᴡᴀs ᴀʟsᴏ ᴏɴᴄᴇ ᴠɪᴄᴛɪᴍɪᴢᴇᴅ ᴜɴᴛɪʟ ɪ sᴀᴡ ᴀ ᴘᴏsᴛ ʟɪᴋᴇ ᴛʜɪs ᴀʙᴏᴜᴛ ᴍʀs ᴄᴇᴅʀɪᴄ ᴇᴛsɪᴛsᴏ ɪ  ɪɴᴠᴇsᴛᴇᴅ ᴀɴᴅ ɢᴏᴛ ᴍʏ ɪɴᴄᴏᴍᴇ ᴀs ᴘʀᴏᴍɪsᴇᴅ ᴛᴏ ᴍᴇ ᴀᴛ ғɪʀsᴛ, ʙᴜᴛ ɪ ᴛʜᴏᴜɢʜᴛ ᴛᴏ ɢɪᴠᴇ ɪᴛ ᴀ ᴛʀʏ.  ɪ ᴡɪʟʟ ᴀʟᴡᴀʏs ᴛʜᴀɴᴋ ᴍʀs ᴄᴇᴅʀɪᴄ ᴇᴛsɪᴛsᴏ ғᴏʀ ʜᴇʟᴘɪɴɢ ᴍᴇ. ʏᴏᴜ ᴄᴀɴ ᴄᴏɴᴛᴀᴄᴛ ʜᴇʀ ʙᴇʟᴏᴡ👇👇👇👇👇👇👇👇👇👇\\nhttps://www.facebook.com/Cedric.Etsitso.300.FX\n",
      "12    Lim Samuel Kok Heng ᴅᴜᴇ ᴛᴏ ᴛʜᴇ ᴄᴏᴠɪᴅ-19  ᴡɪᴛʜ ᴛʜᴇ ʟᴏᴄᴋᴅᴏᴡɴ ᴍᴀɴʏ ᴡᴇʀᴇ ᴍᴀᴅᴇ  ᴊᴏʙʟᴇss ᴏʀ ʟᴏss ᴏғ ɪɴᴄᴏᴍᴇ ᴛᴏ ғᴇᴇᴅ ᴛʜᴇᴍsᴇʟᴠᴇs ᴀɴᴅ ᴛʜᴇɪʀ ғᴀᴍɪʟɪᴇs.  ɪ ᴡᴀs ᴀʟsᴏ ᴏɴᴄᴇ ᴠɪᴄᴛɪᴍɪᴢᴇᴅ ᴜɴᴛɪʟ ɪ sᴀᴡ ᴀ ᴘᴏsᴛ ʟɪᴋᴇ ᴛʜɪs ᴀʙᴏᴜᴛ ᴍʀs ᴄᴇᴅʀɪᴄ ᴇᴛsɪᴛsᴏ ɪ  ɪɴᴠᴇsᴛᴇᴅ ᴀɴᴅ ɢᴏᴛ ᴍʏ ɪɴᴄᴏᴍᴇ ᴀs ᴘʀᴏᴍɪsᴇᴅ ᴛᴏ ᴍᴇ ᴀᴛ ғɪʀsᴛ, ʙᴜᴛ ɪ ᴛʜᴏᴜɢʜᴛ ᴛᴏ ɢɪᴠᴇ ɪᴛ ᴀ ᴛʀʏ.  ɪ ᴡɪʟʟ ᴀʟᴡᴀʏs ᴛʜᴀɴᴋ ᴍʀs ᴄᴇᴅʀɪᴄ ᴇᴛsɪᴛsᴏ ғᴏʀ ʜᴇʟᴘɪɴɢ ᴍᴇ. ʏᴏᴜ ᴄᴀɴ ᴄᴏɴᴛᴀᴄᴛ ʜᴇʀ ʙᴇʟᴏᴡ👇👇👇👇👇👇👇👇👇👇\\nhttps://www.facebook.com/Cedric.Etsitso.300.FX\n",
      "14                Sam Sam ᴅᴜᴇ ᴛᴏ ᴛʜᴇ ᴄᴏᴠɪᴅ-19  ᴡɪᴛʜ ᴛʜᴇ ʟᴏᴄᴋᴅᴏᴡɴ ᴍᴀɴʏ ᴡᴇʀᴇ ᴍᴀᴅᴇ  ᴊᴏʙʟᴇss ᴏʀ ʟᴏss ᴏғ ɪɴᴄᴏᴍᴇ ᴛᴏ ғᴇᴇᴅ ᴛʜᴇᴍsᴇʟᴠᴇs ᴀɴᴅ ᴛʜᴇɪʀ ғᴀᴍɪʟɪᴇs.  ɪ ᴡᴀs ᴀʟsᴏ ᴏɴᴄᴇ ᴠɪᴄᴛɪᴍɪᴢᴇᴅ ᴜɴᴛɪʟ ɪ sᴀᴡ ᴀ ᴘᴏsᴛ ʟɪᴋᴇ ᴛʜɪs ᴀʙᴏᴜᴛ ᴍʀs ᴄᴇᴅʀɪᴄ ᴇᴛsɪᴛsᴏ ɪ  ɪɴᴠᴇsᴛᴇᴅ ᴀɴᴅ ɢᴏᴛ ᴍʏ ɪɴᴄᴏᴍᴇ ᴀs ᴘʀᴏᴍɪsᴇᴅ ᴛᴏ ᴍᴇ ᴀᴛ ғɪʀsᴛ, ʙᴜᴛ ɪ ᴛʜᴏᴜɢʜᴛ ᴛᴏ ɢɪᴠᴇ ɪᴛ ᴀ ᴛʀʏ.  ɪ ᴡɪʟʟ ᴀʟᴡᴀʏs ᴛʜᴀɴᴋ ᴍʀs ᴄᴇᴅʀɪᴄ ᴇᴛsɪᴛsᴏ ғᴏʀ ʜᴇʟᴘɪɴɢ ᴍᴇ. ʏᴏᴜ ᴄᴀɴ ᴄᴏɴᴛᴀᴄᴛ ʜᴇʀ ʙᴇʟᴏᴡ👇👇👇👇👇👇👇👇👇👇\\nhttps://www.facebook.com/Cedric.Etsitso.300.FX\n",
      "15           Guan Gan Ong ᴅᴜᴇ ᴛᴏ ᴛʜᴇ ᴄᴏᴠɪᴅ-19  ᴡɪᴛʜ ᴛʜᴇ ʟᴏᴄᴋᴅᴏᴡɴ ᴍᴀɴʏ ᴡᴇʀᴇ ᴍᴀᴅᴇ  ᴊᴏʙʟᴇss ᴏʀ ʟᴏss ᴏғ ɪɴᴄᴏᴍᴇ ᴛᴏ ғᴇᴇᴅ ᴛʜᴇᴍsᴇʟᴠᴇs ᴀɴᴅ ᴛʜᴇɪʀ ғᴀᴍɪʟɪᴇs.  ɪ ᴡᴀs ᴀʟsᴏ ᴏɴᴄᴇ ᴠɪᴄᴛɪᴍɪᴢᴇᴅ ᴜɴᴛɪʟ ɪ sᴀᴡ ᴀ ᴘᴏsᴛ ʟɪᴋᴇ ᴛʜɪs ᴀʙᴏᴜᴛ ᴍʀs ᴄᴇᴅʀɪᴄ ᴇᴛsɪᴛsᴏ ɪ  ɪɴᴠᴇsᴛᴇᴅ ᴀɴᴅ ɢᴏᴛ ᴍʏ ɪɴᴄᴏᴍᴇ ᴀs ᴘʀᴏᴍɪsᴇᴅ ᴛᴏ ᴍᴇ ᴀᴛ ғɪʀsᴛ, ʙᴜᴛ ɪ ᴛʜᴏᴜɢʜᴛ ᴛᴏ ɢɪᴠᴇ ɪᴛ ᴀ ᴛʀʏ.  ɪ ᴡɪʟʟ ᴀʟᴡᴀʏs ᴛʜᴀɴᴋ ᴍʀs ᴄᴇᴅʀɪᴄ ᴇᴛsɪᴛsᴏ ғᴏʀ ʜᴇʟᴘɪɴɢ ᴍᴇ. ʏᴏᴜ ᴄᴀɴ ᴄᴏɴᴛᴀᴄᴛ ʜᴇʀ ʙᴇʟᴏᴡ👇👇👇👇👇👇👇👇👇👇\\nhttps://www.facebook.com/Cedric.Etsitso.300.FX\n",
      "16            Zong Ye Goh ᴅᴜᴇ ᴛᴏ ᴛʜᴇ ᴄᴏᴠɪᴅ-19  ᴡɪᴛʜ ᴛʜᴇ ʟᴏᴄᴋᴅᴏᴡɴ ᴍᴀɴʏ ᴡᴇʀᴇ ᴍᴀᴅᴇ  ᴊᴏʙʟᴇss ᴏʀ ʟᴏss ᴏғ ɪɴᴄᴏᴍᴇ ᴛᴏ ғᴇᴇᴅ ᴛʜᴇᴍsᴇʟᴠᴇs ᴀɴᴅ ᴛʜᴇɪʀ ғᴀᴍɪʟɪᴇs.  ɪ ᴡᴀs ᴀʟsᴏ ᴏɴᴄᴇ ᴠɪᴄᴛɪᴍɪᴢᴇᴅ ᴜɴᴛɪʟ ɪ sᴀᴡ ᴀ ᴘᴏsᴛ ʟɪᴋᴇ ᴛʜɪs ᴀʙᴏᴜᴛ ᴍʀs ᴄᴇᴅʀɪᴄ ᴇᴛsɪᴛsᴏ ɪ  ɪɴᴠᴇsᴛᴇᴅ ᴀɴᴅ ɢᴏᴛ ᴍʏ ɪɴᴄᴏᴍᴇ ᴀs ᴘʀᴏᴍɪsᴇᴅ ᴛᴏ ᴍᴇ ᴀᴛ ғɪʀsᴛ, ʙᴜᴛ ɪ ᴛʜᴏᴜɢʜᴛ ᴛᴏ ɢɪᴠᴇ ɪᴛ ᴀ ᴛʀʏ.  ɪ ᴡɪʟʟ ᴀʟᴡᴀʏs ᴛʜᴀɴᴋ ᴍʀs ᴄᴇᴅʀɪᴄ ᴇᴛsɪᴛsᴏ ғᴏʀ ʜᴇʟᴘɪɴɢ ᴍᴇ. ʏᴏᴜ ᴄᴀɴ ᴄᴏɴᴛᴀᴄᴛ ʜᴇʀ ʙᴇʟᴏᴡ👇👇👇👇👇👇👇👇👇👇\\nhttps://www.facebook.com/Cedric.Etsitso.300.FX\n",
      "17            Dennis Khew ᴅᴜᴇ ᴛᴏ ᴛʜᴇ ᴄᴏᴠɪᴅ-19  ᴡɪᴛʜ ᴛʜᴇ ʟᴏᴄᴋᴅᴏᴡɴ ᴍᴀɴʏ ᴡᴇʀᴇ ᴍᴀᴅᴇ  ᴊᴏʙʟᴇss ᴏʀ ʟᴏss ᴏғ ɪɴᴄᴏᴍᴇ ᴛᴏ ғᴇᴇᴅ ᴛʜᴇᴍsᴇʟᴠᴇs ᴀɴᴅ ᴛʜᴇɪʀ ғᴀᴍɪʟɪᴇs.  ɪ ᴡᴀs ᴀʟsᴏ ᴏɴᴄᴇ ᴠɪᴄᴛɪᴍɪᴢᴇᴅ ᴜɴᴛɪʟ ɪ sᴀᴡ ᴀ ᴘᴏsᴛ ʟɪᴋᴇ ᴛʜɪs ᴀʙᴏᴜᴛ ᴍʀs ᴄᴇᴅʀɪᴄ ᴇᴛsɪᴛsᴏ ɪ  ɪɴᴠᴇsᴛᴇᴅ ᴀɴᴅ ɢᴏᴛ ᴍʏ ɪɴᴄᴏᴍᴇ ᴀs ᴘʀᴏᴍɪsᴇᴅ ᴛᴏ ᴍᴇ ᴀᴛ ғɪʀsᴛ, ʙᴜᴛ ɪ ᴛʜᴏᴜɢʜᴛ ᴛᴏ ɢɪᴠᴇ ɪᴛ ᴀ ᴛʀʏ.  ɪ ᴡɪʟʟ ᴀʟᴡᴀʏs ᴛʜᴀɴᴋ ᴍʀs ᴄᴇᴅʀɪᴄ ᴇᴛsɪᴛsᴏ ғᴏʀ ʜᴇʟᴘɪɴɢ ᴍᴇ. ʏᴏᴜ ᴄᴀɴ ᴄᴏɴᴛᴀᴄᴛ ʜᴇʀ ʙᴇʟᴏᴡ👇👇👇👇👇👇👇👇👇👇\\nhttps://www.facebook.com/Cedric.Etsitso.300.FX\n",
      "19            Francis Poh ᴅᴜᴇ ᴛᴏ ᴛʜᴇ ᴄᴏᴠɪᴅ-19  ᴡɪᴛʜ ᴛʜᴇ ʟᴏᴄᴋᴅᴏᴡɴ ᴍᴀɴʏ ᴡᴇʀᴇ ᴍᴀᴅᴇ  ᴊᴏʙʟᴇss ᴏʀ ʟᴏss ᴏғ ɪɴᴄᴏᴍᴇ ᴛᴏ ғᴇᴇᴅ ᴛʜᴇᴍsᴇʟᴠᴇs ᴀɴᴅ ᴛʜᴇɪʀ ғᴀᴍɪʟɪᴇs.  ɪ ᴡᴀs ᴀʟsᴏ ᴏɴᴄᴇ ᴠɪᴄᴛɪᴍɪᴢᴇᴅ ᴜɴᴛɪʟ ɪ sᴀᴡ ᴀ ᴘᴏsᴛ ʟɪᴋᴇ ᴛʜɪs ᴀʙᴏᴜᴛ ᴍʀs ᴄᴇᴅʀɪᴄ ᴇᴛsɪᴛsᴏ ɪ  ɪɴᴠᴇsᴛᴇᴅ ᴀɴᴅ ɢᴏᴛ ᴍʏ ɪɴᴄᴏᴍᴇ ᴀs ᴘʀᴏᴍɪsᴇᴅ ᴛᴏ ᴍᴇ ᴀᴛ ғɪʀsᴛ, ʙᴜᴛ ɪ ᴛʜᴏᴜɢʜᴛ ᴛᴏ ɢɪᴠᴇ ɪᴛ ᴀ ᴛʀʏ.  ɪ ᴡɪʟʟ ᴀʟᴡᴀʏs ᴛʜᴀɴᴋ ᴍʀs ᴄᴇᴅʀɪᴄ ᴇᴛsɪᴛsᴏ ғᴏʀ ʜᴇʟᴘɪɴɢ ᴍᴇ. ʏᴏᴜ ᴄᴀɴ ᴄᴏɴᴛᴀᴄᴛ ʜᴇʀ ʙᴇʟᴏᴡ👇👇👇👇👇👇👇👇👇👇\\nhttps://www.facebook.com/Cedric.Etsitso.300.FX\n",
      "20               KT Chong ᴅᴜᴇ ᴛᴏ ᴛʜᴇ ᴄᴏᴠɪᴅ-19  ᴡɪᴛʜ ᴛʜᴇ ʟᴏᴄᴋᴅᴏᴡɴ ᴍᴀɴʏ ᴡᴇʀᴇ ᴍᴀᴅᴇ  ᴊᴏʙʟᴇss ᴏʀ ʟᴏss ᴏғ ɪɴᴄᴏᴍᴇ ᴛᴏ ғᴇᴇᴅ ᴛʜᴇᴍsᴇʟᴠᴇs ᴀɴᴅ ᴛʜᴇɪʀ ғᴀᴍɪʟɪᴇs.  ɪ ᴡᴀs ᴀʟsᴏ ᴏɴᴄᴇ ᴠɪᴄᴛɪᴍɪᴢᴇᴅ ᴜɴᴛɪʟ ɪ sᴀᴡ ᴀ ᴘᴏsᴛ ʟɪᴋᴇ ᴛʜɪs ᴀʙᴏᴜᴛ ᴍʀs ᴄᴇᴅʀɪᴄ ᴇᴛsɪᴛsᴏ ɪ  ɪɴᴠᴇsᴛᴇᴅ ᴀɴᴅ ɢᴏᴛ ᴍʏ ɪɴᴄᴏᴍᴇ ᴀs ᴘʀᴏᴍɪsᴇᴅ ᴛᴏ ᴍᴇ ᴀᴛ ғɪʀsᴛ, ʙᴜᴛ ɪ ᴛʜᴏᴜɢʜᴛ ᴛᴏ ɢɪᴠᴇ ɪᴛ ᴀ ᴛʀʏ.  ɪ ᴡɪʟʟ ᴀʟᴡᴀʏs ᴛʜᴀɴᴋ ᴍʀs ᴄᴇᴅʀɪᴄ ᴇᴛsɪᴛsᴏ ғᴏʀ ʜᴇʟᴘɪɴɢ ᴍᴇ. ʏᴏᴜ ᴄᴀɴ ᴄᴏɴᴛᴀᴄᴛ ʜᴇʀ ʙᴇʟᴏᴡ👇👇👇👇👇👇👇👇👇👇\\nhttps://www.facebook.com/Cedric.Etsitso.300.FX\n",
      "22        Istupid Istupid ᴅᴜᴇ ᴛᴏ ᴛʜᴇ ᴄᴏᴠɪᴅ-19  ᴡɪᴛʜ ᴛʜᴇ ʟᴏᴄᴋᴅᴏᴡɴ ᴍᴀɴʏ ᴡᴇʀᴇ ᴍᴀᴅᴇ  ᴊᴏʙʟᴇss ᴏʀ ʟᴏss ᴏғ ɪɴᴄᴏᴍᴇ ᴛᴏ ғᴇᴇᴅ ᴛʜᴇᴍsᴇʟᴠᴇs ᴀɴᴅ ᴛʜᴇɪʀ ғᴀᴍɪʟɪᴇs.  ɪ ᴡᴀs ᴀʟsᴏ ᴏɴᴄᴇ ᴠɪᴄᴛɪᴍɪᴢᴇᴅ ᴜɴᴛɪʟ ɪ sᴀᴡ ᴀ ᴘᴏsᴛ ʟɪᴋᴇ ᴛʜɪs ᴀʙᴏᴜᴛ ᴍʀs ᴄᴇᴅʀɪᴄ ᴇᴛsɪᴛsᴏ ɪ  ɪɴᴠᴇsᴛᴇᴅ ᴀɴᴅ ɢᴏᴛ ᴍʏ ɪɴᴄᴏᴍᴇ ᴀs ᴘʀᴏᴍɪsᴇᴅ ᴛᴏ ᴍᴇ ᴀᴛ ғɪʀsᴛ, ʙᴜᴛ ɪ ᴛʜᴏᴜɢʜᴛ ᴛᴏ ɢɪᴠᴇ ɪᴛ ᴀ ᴛʀʏ.  ɪ ᴡɪʟʟ ᴀʟᴡᴀʏs ᴛʜᴀɴᴋ ᴍʀs ᴄᴇᴅʀɪᴄ ᴇᴛsɪᴛsᴏ ғᴏʀ ʜᴇʟᴘɪɴɢ ᴍᴇ. ʏᴏᴜ ᴄᴀɴ ᴄᴏɴᴛᴀᴄᴛ ʜᴇʀ ʙᴇʟᴏᴡ👇👇👇👇👇👇👇👇👇👇\\nhttps://www.facebook.com/Cedric.Etsitso.300.FX\n",
      "23                May See ᴅᴜᴇ ᴛᴏ ᴛʜᴇ ᴄᴏᴠɪᴅ-19  ᴡɪᴛʜ ᴛʜᴇ ʟᴏᴄᴋᴅᴏᴡɴ ᴍᴀɴʏ ᴡᴇʀᴇ ᴍᴀᴅᴇ  ᴊᴏʙʟᴇss ᴏʀ ʟᴏss ᴏғ ɪɴᴄᴏᴍᴇ ᴛᴏ ғᴇᴇᴅ ᴛʜᴇᴍsᴇʟᴠᴇs ᴀɴᴅ ᴛʜᴇɪʀ ғᴀᴍɪʟɪᴇs.  ɪ ᴡᴀs ᴀʟsᴏ ᴏɴᴄᴇ ᴠɪᴄᴛɪᴍɪᴢᴇᴅ ᴜɴᴛɪʟ ɪ sᴀᴡ ᴀ ᴘᴏsᴛ ʟɪᴋᴇ ᴛʜɪs ᴀʙᴏᴜᴛ ᴍʀs ᴄᴇᴅʀɪᴄ ᴇᴛsɪᴛsᴏ ɪ  ɪɴᴠᴇsᴛᴇᴅ ᴀɴᴅ ɢᴏᴛ ᴍʏ ɪɴᴄᴏᴍᴇ ᴀs ᴘʀᴏᴍɪsᴇᴅ ᴛᴏ ᴍᴇ ᴀᴛ ғɪʀsᴛ, ʙᴜᴛ ɪ ᴛʜᴏᴜɢʜᴛ ᴛᴏ ɢɪᴠᴇ ɪᴛ ᴀ ᴛʀʏ.  ɪ ᴡɪʟʟ ᴀʟᴡᴀʏs ᴛʜᴀɴᴋ ᴍʀs ᴄᴇᴅʀɪᴄ ᴇᴛsɪᴛsᴏ ғᴏʀ ʜᴇʟᴘɪɴɢ ᴍᴇ. ʏᴏᴜ ᴄᴀɴ ᴄᴏɴᴛᴀᴄᴛ ʜᴇʀ ʙᴇʟᴏᴡ👇👇👇👇👇👇👇👇👇👇\\nhttps://www.facebook.com/Cedric.Etsitso.300.FX\n",
      "Name: entry_text, dtype: object\n"
     ]
    }
   ],
   "source": [
    "pd.set_option('display.max_colwidth', None)\n",
    "print(trolls[\"entry_text\"][0:10])"
   ]
  },
  {
   "cell_type": "code",
   "execution_count": 8,
   "metadata": {},
   "outputs": [],
   "source": [
    "non_troll = df[~df.isin(trolls)].dropna()"
   ]
  },
  {
   "cell_type": "code",
   "execution_count": 9,
   "metadata": {},
   "outputs": [
    {
     "data": {
      "text/plain": [
       "402529"
      ]
     },
     "execution_count": 9,
     "metadata": {},
     "output_type": "execute_result"
    }
   ],
   "source": [
    "len(non_troll)"
   ]
  },
  {
   "cell_type": "code",
   "execution_count": 10,
   "metadata": {},
   "outputs": [
    {
     "data": {
      "text/plain": [
       "0    So is this news fake or giving false hope? No wonder so many are too complacent And so more going out, right? Ong, Lee, please explain on TV many are so confusing!\n",
       "1                                                                                                                                  My sister said situation getting bad.\n",
       "2                                                                                                      When this expert himself gets covid than he will said otherwise🤣🤣\n",
       "3                                                              When even the FAP page also don’t wanna open their kennel gates to show support cos they also know is BS \n",
       "4                                                                                                      I think the expert is being paid by the govt to say these things😂\n",
       "5                                                                                                                                      Dennis Khew , copy from Malaysia?\n",
       "6                                                                                                                                  Put the experts to mend the hotlines \n",
       "7                                                                                                                                            Weewee Xiaohei Yours gone? \n",
       "8                                                          At a glance, what you see from the negative comments are opposition supporters and foreign keyboard players! \n",
       "9                                                       Experts can predict what upcoming variant that could possibly wipe out half the nation despite being vaccinated?\n",
       "Name: entry_text, dtype: object"
      ]
     },
     "execution_count": 10,
     "metadata": {},
     "output_type": "execute_result"
    }
   ],
   "source": [
    "non_troll[\"entry_text\"][0:10]"
   ]
  },
  {
   "cell_type": "code",
   "execution_count": 11,
   "metadata": {},
   "outputs": [
    {
     "name": "stderr",
     "output_type": "stream",
     "text": [
      "C:\\Users\\othmana\\AppData\\Local\\Temp\\ipykernel_8988\\2430427830.py:2: UserWarning: This pattern is interpreted as a regular expression, and has match groups. To actually get the groups, use str.extract.\n",
      "  email = non_troll.loc[non_troll[\"entry_text\"].str.contains(\"([a-zA-Z0-9_.+-]+@[a-zA-Z0-9-]+\\.[a-zA-Z0-9-.]+)\")]\n"
     ]
    }
   ],
   "source": [
    "#email addresses\n",
    "email = non_troll.loc[non_troll[\"entry_text\"].str.contains(\"([a-zA-Z0-9_.+-]+@[a-zA-Z0-9-]+\\.[a-zA-Z0-9-.]+)\")]"
   ]
  },
  {
   "cell_type": "code",
   "execution_count": 12,
   "metadata": {},
   "outputs": [],
   "source": [
    "non_email = non_troll[~non_troll.isin(email)].dropna()"
   ]
  },
  {
   "cell_type": "code",
   "execution_count": 13,
   "metadata": {},
   "outputs": [
    {
     "data": {
      "text/plain": [
       "0    So is this news fake or giving false hope? No wonder so many are too complacent And so more going out, right? Ong, Lee, please explain on TV many are so confusing!\n",
       "1                                                                                                                                  My sister said situation getting bad.\n",
       "2                                                                                                      When this expert himself gets covid than he will said otherwise🤣🤣\n",
       "3                                                              When even the FAP page also don’t wanna open their kennel gates to show support cos they also know is BS \n",
       "4                                                                                                      I think the expert is being paid by the govt to say these things😂\n",
       "5                                                                                                                                      Dennis Khew , copy from Malaysia?\n",
       "6                                                                                                                                  Put the experts to mend the hotlines \n",
       "7                                                                                                                                            Weewee Xiaohei Yours gone? \n",
       "8                                                          At a glance, what you see from the negative comments are opposition supporters and foreign keyboard players! \n",
       "9                                                       Experts can predict what upcoming variant that could possibly wipe out half the nation despite being vaccinated?\n",
       "Name: entry_text, dtype: object"
      ]
     },
     "execution_count": 13,
     "metadata": {},
     "output_type": "execute_result"
    }
   ],
   "source": [
    "non_email[\"entry_text\"][0:10]"
   ]
  },
  {
   "cell_type": "code",
   "execution_count": 14,
   "metadata": {},
   "outputs": [],
   "source": [
    "#1-charac comments\n",
    "non_one_char = non_email[~(non_email['entry_text'].str.len()==1)]"
   ]
  },
  {
   "cell_type": "code",
   "execution_count": 15,
   "metadata": {},
   "outputs": [
    {
     "data": {
      "text/html": [
       "<div>\n",
       "<style scoped>\n",
       "    .dataframe tbody tr th:only-of-type {\n",
       "        vertical-align: middle;\n",
       "    }\n",
       "\n",
       "    .dataframe tbody tr th {\n",
       "        vertical-align: top;\n",
       "    }\n",
       "\n",
       "    .dataframe thead th {\n",
       "        text-align: right;\n",
       "    }\n",
       "</style>\n",
       "<table border=\"1\" class=\"dataframe\">\n",
       "  <thead>\n",
       "    <tr style=\"text-align: right;\">\n",
       "      <th></th>\n",
       "      <th>Unnamed: 0.3</th>\n",
       "      <th>Unnamed: 0.2</th>\n",
       "      <th>Unnamed: 0.1</th>\n",
       "      <th>Unnamed: 0</th>\n",
       "      <th>page_id</th>\n",
       "      <th>post_id</th>\n",
       "      <th>user_id</th>\n",
       "      <th>username</th>\n",
       "      <th>entry_id</th>\n",
       "      <th>entry_text</th>\n",
       "      <th>...</th>\n",
       "      <th>creation_time</th>\n",
       "      <th>anger_score</th>\n",
       "      <th>fear_score</th>\n",
       "      <th>joy_score</th>\n",
       "      <th>sadness_score</th>\n",
       "      <th>valence</th>\n",
       "      <th>emotion_score</th>\n",
       "      <th>sentiment_score</th>\n",
       "      <th>emotion_category</th>\n",
       "      <th>sentiment_category</th>\n",
       "    </tr>\n",
       "  </thead>\n",
       "  <tbody>\n",
       "    <tr>\n",
       "      <th>0</th>\n",
       "      <td>0.0</td>\n",
       "      <td>0.0</td>\n",
       "      <td>11000000.0</td>\n",
       "      <td>767245.0</td>\n",
       "      <td>9.388943e+10</td>\n",
       "      <td>93889432933_10158541837572934</td>\n",
       "      <td>0.0</td>\n",
       "      <td>-</td>\n",
       "      <td>1.015854e+16</td>\n",
       "      <td>So is this news fake or giving false hope? No wonder so many are too complacent And so more going out, right? Ong, Lee, please explain on TV many are so confusing!</td>\n",
       "      <td>...</td>\n",
       "      <td>1.632444e+09</td>\n",
       "      <td>0.514</td>\n",
       "      <td>0.487</td>\n",
       "      <td>0.162</td>\n",
       "      <td>0.509</td>\n",
       "      <td>0.307</td>\n",
       "      <td>5.0</td>\n",
       "      <td>-1.0</td>\n",
       "      <td>anger</td>\n",
       "      <td>negative</td>\n",
       "    </tr>\n",
       "    <tr>\n",
       "      <th>1</th>\n",
       "      <td>1.0</td>\n",
       "      <td>1.0</td>\n",
       "      <td>11000001.0</td>\n",
       "      <td>767246.0</td>\n",
       "      <td>9.388943e+10</td>\n",
       "      <td>93889432933_10158541837572934</td>\n",
       "      <td>0.0</td>\n",
       "      <td>-</td>\n",
       "      <td>1.015854e+16</td>\n",
       "      <td>My sister said situation getting bad.</td>\n",
       "      <td>...</td>\n",
       "      <td>1.632445e+09</td>\n",
       "      <td>0.522</td>\n",
       "      <td>0.554</td>\n",
       "      <td>0.203</td>\n",
       "      <td>0.620</td>\n",
       "      <td>0.295</td>\n",
       "      <td>6.0</td>\n",
       "      <td>-2.0</td>\n",
       "      <td>sadness</td>\n",
       "      <td>very negative</td>\n",
       "    </tr>\n",
       "    <tr>\n",
       "      <th>2</th>\n",
       "      <td>2.0</td>\n",
       "      <td>2.0</td>\n",
       "      <td>11000002.0</td>\n",
       "      <td>767247.0</td>\n",
       "      <td>9.388943e+10</td>\n",
       "      <td>93889432933_10158541837572934</td>\n",
       "      <td>0.0</td>\n",
       "      <td>-</td>\n",
       "      <td>1.015854e+16</td>\n",
       "      <td>When this expert himself gets covid than he will said otherwise🤣🤣</td>\n",
       "      <td>...</td>\n",
       "      <td>1.632445e+09</td>\n",
       "      <td>0.412</td>\n",
       "      <td>0.392</td>\n",
       "      <td>0.290</td>\n",
       "      <td>0.393</td>\n",
       "      <td>0.462</td>\n",
       "      <td>4.0</td>\n",
       "      <td>-1.0</td>\n",
       "      <td>anger</td>\n",
       "      <td>negative</td>\n",
       "    </tr>\n",
       "    <tr>\n",
       "      <th>3</th>\n",
       "      <td>3.0</td>\n",
       "      <td>3.0</td>\n",
       "      <td>11000003.0</td>\n",
       "      <td>767248.0</td>\n",
       "      <td>9.388943e+10</td>\n",
       "      <td>93889432933_10158541837572934</td>\n",
       "      <td>0.0</td>\n",
       "      <td>-</td>\n",
       "      <td>1.015854e+16</td>\n",
       "      <td>When even the FAP page also don’t wanna open their kennel gates to show support cos they also know is BS</td>\n",
       "      <td>...</td>\n",
       "      <td>1.632445e+09</td>\n",
       "      <td>0.517</td>\n",
       "      <td>0.473</td>\n",
       "      <td>0.143</td>\n",
       "      <td>0.503</td>\n",
       "      <td>0.298</td>\n",
       "      <td>5.0</td>\n",
       "      <td>-2.0</td>\n",
       "      <td>anger</td>\n",
       "      <td>very negative</td>\n",
       "    </tr>\n",
       "    <tr>\n",
       "      <th>4</th>\n",
       "      <td>4.0</td>\n",
       "      <td>4.0</td>\n",
       "      <td>11000004.0</td>\n",
       "      <td>767249.0</td>\n",
       "      <td>9.388943e+10</td>\n",
       "      <td>93889432933_10158541837572934</td>\n",
       "      <td>0.0</td>\n",
       "      <td>-</td>\n",
       "      <td>1.015854e+16</td>\n",
       "      <td>I think the expert is being paid by the govt to say these things😂</td>\n",
       "      <td>...</td>\n",
       "      <td>1.632445e+09</td>\n",
       "      <td>0.438</td>\n",
       "      <td>0.362</td>\n",
       "      <td>0.315</td>\n",
       "      <td>0.326</td>\n",
       "      <td>0.486</td>\n",
       "      <td>0.0</td>\n",
       "      <td>0.0</td>\n",
       "      <td>no specific emotion</td>\n",
       "      <td>neutral</td>\n",
       "    </tr>\n",
       "    <tr>\n",
       "      <th>5</th>\n",
       "      <td>5.0</td>\n",
       "      <td>5.0</td>\n",
       "      <td>11000005.0</td>\n",
       "      <td>767250.0</td>\n",
       "      <td>9.388943e+10</td>\n",
       "      <td>93889432933_10158541837572934</td>\n",
       "      <td>0.0</td>\n",
       "      <td>-</td>\n",
       "      <td>1.015854e+16</td>\n",
       "      <td>Dennis Khew , copy from Malaysia?</td>\n",
       "      <td>...</td>\n",
       "      <td>1.632445e+09</td>\n",
       "      <td>0.353</td>\n",
       "      <td>0.377</td>\n",
       "      <td>0.223</td>\n",
       "      <td>0.365</td>\n",
       "      <td>0.479</td>\n",
       "      <td>4.0</td>\n",
       "      <td>-1.0</td>\n",
       "      <td>fear</td>\n",
       "      <td>negative</td>\n",
       "    </tr>\n",
       "    <tr>\n",
       "      <th>6</th>\n",
       "      <td>6.0</td>\n",
       "      <td>6.0</td>\n",
       "      <td>11000006.0</td>\n",
       "      <td>767251.0</td>\n",
       "      <td>9.388943e+10</td>\n",
       "      <td>93889432933_10158541837572934</td>\n",
       "      <td>0.0</td>\n",
       "      <td>-</td>\n",
       "      <td>1.015854e+16</td>\n",
       "      <td>Put the experts to mend the hotlines</td>\n",
       "      <td>...</td>\n",
       "      <td>1.632445e+09</td>\n",
       "      <td>0.377</td>\n",
       "      <td>0.251</td>\n",
       "      <td>0.285</td>\n",
       "      <td>0.358</td>\n",
       "      <td>0.419</td>\n",
       "      <td>4.0</td>\n",
       "      <td>-1.0</td>\n",
       "      <td>anger</td>\n",
       "      <td>negative</td>\n",
       "    </tr>\n",
       "    <tr>\n",
       "      <th>7</th>\n",
       "      <td>7.0</td>\n",
       "      <td>7.0</td>\n",
       "      <td>11000007.0</td>\n",
       "      <td>767252.0</td>\n",
       "      <td>9.388943e+10</td>\n",
       "      <td>93889432933_10158541837572934</td>\n",
       "      <td>0.0</td>\n",
       "      <td>-</td>\n",
       "      <td>1.015854e+16</td>\n",
       "      <td>Weewee Xiaohei Yours gone?</td>\n",
       "      <td>...</td>\n",
       "      <td>1.632445e+09</td>\n",
       "      <td>0.331</td>\n",
       "      <td>0.417</td>\n",
       "      <td>0.272</td>\n",
       "      <td>0.436</td>\n",
       "      <td>0.423</td>\n",
       "      <td>4.0</td>\n",
       "      <td>-1.0</td>\n",
       "      <td>sadness</td>\n",
       "      <td>negative</td>\n",
       "    </tr>\n",
       "    <tr>\n",
       "      <th>8</th>\n",
       "      <td>8.0</td>\n",
       "      <td>8.0</td>\n",
       "      <td>11000008.0</td>\n",
       "      <td>767253.0</td>\n",
       "      <td>9.388943e+10</td>\n",
       "      <td>93889432933_10158541837572934</td>\n",
       "      <td>0.0</td>\n",
       "      <td>-</td>\n",
       "      <td>1.015854e+16</td>\n",
       "      <td>At a glance, what you see from the negative comments are opposition supporters and foreign keyboard players!</td>\n",
       "      <td>...</td>\n",
       "      <td>1.632445e+09</td>\n",
       "      <td>0.430</td>\n",
       "      <td>0.408</td>\n",
       "      <td>0.231</td>\n",
       "      <td>0.387</td>\n",
       "      <td>0.435</td>\n",
       "      <td>4.0</td>\n",
       "      <td>-1.0</td>\n",
       "      <td>anger</td>\n",
       "      <td>negative</td>\n",
       "    </tr>\n",
       "    <tr>\n",
       "      <th>9</th>\n",
       "      <td>9.0</td>\n",
       "      <td>9.0</td>\n",
       "      <td>11000009.0</td>\n",
       "      <td>767254.0</td>\n",
       "      <td>9.388943e+10</td>\n",
       "      <td>93889432933_10158541837572934</td>\n",
       "      <td>0.0</td>\n",
       "      <td>-</td>\n",
       "      <td>1.015854e+16</td>\n",
       "      <td>Experts can predict what upcoming variant that could possibly wipe out half the nation despite being vaccinated?</td>\n",
       "      <td>...</td>\n",
       "      <td>1.632445e+09</td>\n",
       "      <td>0.410</td>\n",
       "      <td>0.560</td>\n",
       "      <td>0.257</td>\n",
       "      <td>0.363</td>\n",
       "      <td>0.459</td>\n",
       "      <td>6.0</td>\n",
       "      <td>-1.0</td>\n",
       "      <td>fear</td>\n",
       "      <td>negative</td>\n",
       "    </tr>\n",
       "  </tbody>\n",
       "</table>\n",
       "<p>10 rows × 21 columns</p>\n",
       "</div>"
      ],
      "text/plain": [
       "   Unnamed: 0.3  Unnamed: 0.2  Unnamed: 0.1  Unnamed: 0       page_id  \\\n",
       "0           0.0           0.0    11000000.0    767245.0  9.388943e+10   \n",
       "1           1.0           1.0    11000001.0    767246.0  9.388943e+10   \n",
       "2           2.0           2.0    11000002.0    767247.0  9.388943e+10   \n",
       "3           3.0           3.0    11000003.0    767248.0  9.388943e+10   \n",
       "4           4.0           4.0    11000004.0    767249.0  9.388943e+10   \n",
       "5           5.0           5.0    11000005.0    767250.0  9.388943e+10   \n",
       "6           6.0           6.0    11000006.0    767251.0  9.388943e+10   \n",
       "7           7.0           7.0    11000007.0    767252.0  9.388943e+10   \n",
       "8           8.0           8.0    11000008.0    767253.0  9.388943e+10   \n",
       "9           9.0           9.0    11000009.0    767254.0  9.388943e+10   \n",
       "\n",
       "                         post_id  user_id username      entry_id  \\\n",
       "0  93889432933_10158541837572934      0.0        -  1.015854e+16   \n",
       "1  93889432933_10158541837572934      0.0        -  1.015854e+16   \n",
       "2  93889432933_10158541837572934      0.0        -  1.015854e+16   \n",
       "3  93889432933_10158541837572934      0.0        -  1.015854e+16   \n",
       "4  93889432933_10158541837572934      0.0        -  1.015854e+16   \n",
       "5  93889432933_10158541837572934      0.0        -  1.015854e+16   \n",
       "6  93889432933_10158541837572934      0.0        -  1.015854e+16   \n",
       "7  93889432933_10158541837572934      0.0        -  1.015854e+16   \n",
       "8  93889432933_10158541837572934      0.0        -  1.015854e+16   \n",
       "9  93889432933_10158541837572934      0.0        -  1.015854e+16   \n",
       "\n",
       "                                                                                                                                                            entry_text  \\\n",
       "0  So is this news fake or giving false hope? No wonder so many are too complacent And so more going out, right? Ong, Lee, please explain on TV many are so confusing!   \n",
       "1                                                                                                                                My sister said situation getting bad.   \n",
       "2                                                                                                    When this expert himself gets covid than he will said otherwise🤣🤣   \n",
       "3                                                            When even the FAP page also don’t wanna open their kennel gates to show support cos they also know is BS    \n",
       "4                                                                                                    I think the expert is being paid by the govt to say these things😂   \n",
       "5                                                                                                                                    Dennis Khew , copy from Malaysia?   \n",
       "6                                                                                                                                Put the experts to mend the hotlines    \n",
       "7                                                                                                                                          Weewee Xiaohei Yours gone?    \n",
       "8                                                        At a glance, what you see from the negative comments are opposition supporters and foreign keyboard players!    \n",
       "9                                                     Experts can predict what upcoming variant that could possibly wipe out half the nation despite being vaccinated?   \n",
       "\n",
       "   ...  creation_time  anger_score  fear_score  joy_score  sadness_score  \\\n",
       "0  ...   1.632444e+09        0.514       0.487      0.162          0.509   \n",
       "1  ...   1.632445e+09        0.522       0.554      0.203          0.620   \n",
       "2  ...   1.632445e+09        0.412       0.392      0.290          0.393   \n",
       "3  ...   1.632445e+09        0.517       0.473      0.143          0.503   \n",
       "4  ...   1.632445e+09        0.438       0.362      0.315          0.326   \n",
       "5  ...   1.632445e+09        0.353       0.377      0.223          0.365   \n",
       "6  ...   1.632445e+09        0.377       0.251      0.285          0.358   \n",
       "7  ...   1.632445e+09        0.331       0.417      0.272          0.436   \n",
       "8  ...   1.632445e+09        0.430       0.408      0.231          0.387   \n",
       "9  ...   1.632445e+09        0.410       0.560      0.257          0.363   \n",
       "\n",
       "   valence  emotion_score  sentiment_score     emotion_category  \\\n",
       "0    0.307            5.0             -1.0                anger   \n",
       "1    0.295            6.0             -2.0              sadness   \n",
       "2    0.462            4.0             -1.0                anger   \n",
       "3    0.298            5.0             -2.0                anger   \n",
       "4    0.486            0.0              0.0  no specific emotion   \n",
       "5    0.479            4.0             -1.0                 fear   \n",
       "6    0.419            4.0             -1.0                anger   \n",
       "7    0.423            4.0             -1.0              sadness   \n",
       "8    0.435            4.0             -1.0                anger   \n",
       "9    0.459            6.0             -1.0                 fear   \n",
       "\n",
       "  sentiment_category  \n",
       "0           negative  \n",
       "1      very negative  \n",
       "2           negative  \n",
       "3      very negative  \n",
       "4            neutral  \n",
       "5           negative  \n",
       "6           negative  \n",
       "7           negative  \n",
       "8           negative  \n",
       "9           negative  \n",
       "\n",
       "[10 rows x 21 columns]"
      ]
     },
     "execution_count": 15,
     "metadata": {},
     "output_type": "execute_result"
    }
   ],
   "source": [
    "non_one_char[0:10]"
   ]
  },
  {
   "cell_type": "code",
   "execution_count": 16,
   "metadata": {},
   "outputs": [],
   "source": [
    "#comments with punctuation only\n",
    "import string\n",
    "def remove_punctuation(text): \n",
    "    no_punct = ''.join([c for c in text if c not in string.punctuation])\n",
    "    return no_punct\n",
    "\n",
    "non_one_char['processed_content']=non_one_char['entry_text'].apply(remove_punctuation)\n",
    "non_punct = non_one_char[~(non_one_char['processed_content']=='')]"
   ]
  },
  {
   "cell_type": "code",
   "execution_count": 17,
   "metadata": {},
   "outputs": [
    {
     "data": {
      "text/plain": [
       "402439"
      ]
     },
     "execution_count": 17,
     "metadata": {},
     "output_type": "execute_result"
    }
   ],
   "source": [
    "len(non_punct)"
   ]
  },
  {
   "cell_type": "code",
   "execution_count": 18,
   "metadata": {},
   "outputs": [],
   "source": [
    "non_punct.to_csv('fb_part12_sgonly_droppeddup_trollremoved.csv')"
   ]
  },
  {
   "cell_type": "code",
   "execution_count": null,
   "metadata": {},
   "outputs": [],
   "source": []
  }
 ],
 "metadata": {
  "kernelspec": {
   "display_name": "Python 3 (ipykernel)",
   "language": "python",
   "name": "python3"
  },
  "language_info": {
   "codemirror_mode": {
    "name": "ipython",
    "version": 3
   },
   "file_extension": ".py",
   "mimetype": "text/x-python",
   "name": "python",
   "nbconvert_exporter": "python",
   "pygments_lexer": "ipython3",
   "version": "3.9.12"
  }
 },
 "nbformat": 4,
 "nbformat_minor": 4
}
